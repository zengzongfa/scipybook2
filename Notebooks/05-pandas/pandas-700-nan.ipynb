{
 "cells": [
  {
   "cell_type": "code",
   "execution_count": 1,
   "metadata": {
    "collapsed": true,
    "group_control": {
     "group": 0
    }
   },
   "outputs": [],
   "source": [
    "import numpy as np\n",
    "import pandas as pd"
   ]
  },
  {
   "cell_type": "markdown",
   "metadata": {},
   "source": [
    "### 与`NaN`相关的函数"
   ]
  },
  {
   "cell_type": "code",
   "execution_count": 3,
   "metadata": {
    "collapsed": false
   },
   "outputs": [
    {
     "name": "stdout",
     "output_type": "stream",
     "text": [
      "df_int.dtypes  df_nan.dtypes\n",
      "-------------  -------------\n",
      "A    int32     A      int32 \n",
      "B    int32     B    float64 \n",
      "C    int32     C    float64 \n",
      "dtype: object  dtype: object\n",
      "\n",
      "   df_int           df_nan    \n",
      "-----------    ---------------\n",
      "    A  B  C        A    B    C\n",
      "0  10  3  2    0  10  3.0  NaN\n",
      "1  10  1  3    1  10  NaN  3.0\n",
      "2  19  7  5    2  19  7.0  5.0\n",
      "3  18  3  3    3  18  3.0  3.0\n",
      "4  12  6  0    4  12  6.0  NaN\n",
      "5  14  6  9    5  14  6.0  9.0\n",
      "6  13  8  4    6  13  8.0  4.0\n",
      "7  17  6  1    7  17  6.0  NaN\n",
      "8  15  2  1    8  15  NaN  NaN\n",
      "9  15  3  2    9  15  3.0  NaN\n"
     ]
    }
   ],
   "source": [
    "np.random.seed(41)\n",
    "df_int = pd.DataFrame(np.random.randint(0, 10, (10, 3)), columns=list(\"ABC\"))\n",
    "df_int[\"A\"] += 10\n",
    "df_nan = df_int.where(df_int > 2) #df的where方法\n",
    "#%hide NaN在数值数据中为float\n",
    "%C df_int.dtypes; df_nan.dtypes\n",
    "print()\n",
    "%C 4 df_int; df_nan"
   ]
  },
  {
   "cell_type": "code",
   "execution_count": 4,
   "metadata": {
    "collapsed": false
   },
   "outputs": [
    {
     "name": "stdout",
     "output_type": "stream",
     "text": [
      "   df_nan.isnull()           df_nan.notnull()  \n",
      "----------------------    ---------------------\n",
      "       A      B      C          A      B      C\n",
      "0  False  False   True    0  True   True  False\n",
      "1  False   True  False    1  True  False   True\n",
      "2  False  False  False    2  True   True   True\n",
      "3  False  False  False    3  True   True   True\n",
      "4  False  False   True    4  True   True  False\n",
      "5  False  False  False    5  True   True   True\n",
      "6  False  False  False    6  True   True   True\n",
      "7  False  False   True    7  True   True  False\n",
      "8  False   True   True    8  True  False  False\n",
      "9  False  False   True    9  True   True  False\n"
     ]
    }
   ],
   "source": [
    "#返回全是布尔值的df\n",
    "%C 4 df_nan.isnull(); df_nan.notnull()"
   ]
  },
  {
   "cell_type": "code",
   "execution_count": 5,
   "metadata": {
    "collapsed": false
   },
   "outputs": [
    {
     "name": "stdout",
     "output_type": "stream",
     "text": [
      "df_nan.count()    df_nan.count(axis=1)\n",
      "--------------    --------------------\n",
      "A    10           0    2              \n",
      "B     8           1    2              \n",
      "C     5           2    3              \n",
      "dtype: int64      3    3              \n",
      "                  4    2              \n",
      "                  5    3              \n",
      "                  6    3              \n",
      "                  7    2              \n",
      "                  8    1              \n",
      "                  9    2              \n",
      "                  dtype: int64        \n"
     ]
    }
   ],
   "source": [
    "#按行列统计非NaN个数\n",
    "%C 4 df_nan.count(); df_nan.count(axis=1)"
   ]
  },
  {
   "cell_type": "code",
   "execution_count": 7,
   "metadata": {
    "collapsed": false
   },
   "outputs": [
    {
     "name": "stdout",
     "output_type": "stream",
     "text": [
      "df_nan.dropna()  df_nan.dropna(thresh=2)\n",
      "---------------  -----------------------\n",
      "    A  B  C          A   B   C          \n",
      "2  19  7  5      0  10   3 NaN          \n",
      "3  18  3  3      1  10 NaN   3          \n",
      "5  14  6  9      2  19   7   5          \n",
      "6  13  8  4      3  18   3   3          \n",
      "                 4  12   6 NaN          \n",
      "                 5  14   6   9          \n",
      "                 6  13   8   4          \n",
      "                 7  17   6 NaN          \n",
      "                 9  15   3 NaN          \n"
     ]
    }
   ],
   "source": [
    "#dropna默认删除含NaN的行，thresh可以指定NaN的阈值\n",
    "%C df_nan.dropna(); df_nan.dropna(thresh=2)"
   ]
  },
  {
   "cell_type": "code",
   "execution_count": 8,
   "metadata": {
    "collapsed": false
   },
   "outputs": [
    {
     "name": "stdout",
     "output_type": "stream",
     "text": [
      "df_nan.ffill()  df_nan.bfill()  df_nan.interpolate()\n",
      "--------------  --------------  --------------------\n",
      "    A  B   C        A  B   C        A    B   C      \n",
      "0  10  3 NaN    0  10  3   3    0  10  3.0 NaN      \n",
      "1  10  3   3    1  10  7   3    1  10  5.0   3      \n",
      "2  19  7   5    2  19  7   5    2  19  7.0   5      \n",
      "3  18  3   3    3  18  3   3    3  18  3.0   3      \n",
      "4  12  6   3    4  12  6   9    4  12  6.0   6      \n",
      "5  14  6   9    5  14  6   9    5  14  6.0   9      \n",
      "6  13  8   4    6  13  8   4    6  13  8.0   4      \n",
      "7  17  6   4    7  17  6 NaN    7  17  6.0   4      \n",
      "8  15  6   4    8  15  3 NaN    8  15  4.5   4      \n",
      "9  15  3   4    9  15  3 NaN    9  15  3.0   4      \n"
     ]
    }
   ],
   "source": [
    "#使用上下行的数据进行填充，最后一个为插值填充\n",
    "%C df_nan.ffill(); df_nan.bfill(); df_nan.interpolate()"
   ]
  },
  {
   "cell_type": "code",
   "execution_count": 9,
   "metadata": {
    "collapsed": false
   },
   "outputs": [
    {
     "name": "stdout",
     "output_type": "stream",
     "text": [
      "s.interpolate()  s.interpolate(method=\"index\")\n",
      "---------------  -----------------------------\n",
      "0    3           0    3.000000                \n",
      "8    5           8    6.555556                \n",
      "9    7           9    7.000000                \n",
      "dtype: float64   dtype: float64               \n"
     ]
    }
   ],
   "source": [
    "#根据index进行插值\n",
    "s = pd.Series([3, np.NaN, 7], index=[0, 8, 9])\n",
    "%C s.interpolate(); s.interpolate(method=\"index\")"
   ]
  },
  {
   "cell_type": "code",
   "execution_count": 8,
   "metadata": {
    "collapsed": false
   },
   "outputs": [
    {
     "data": {
      "text/html": [
       "<div>\n",
       "<style scoped>\n",
       "    .dataframe tbody tr th:only-of-type {\n",
       "        vertical-align: middle;\n",
       "    }\n",
       "\n",
       "    .dataframe tbody tr th {\n",
       "        vertical-align: top;\n",
       "    }\n",
       "\n",
       "    .dataframe thead th {\n",
       "        text-align: right;\n",
       "    }\n",
       "</style>\n",
       "<table border=\"1\" class=\"dataframe\">\n",
       "  <thead>\n",
       "    <tr style=\"text-align: right;\">\n",
       "      <th></th>\n",
       "      <th>A</th>\n",
       "      <th>B</th>\n",
       "      <th>C</th>\n",
       "    </tr>\n",
       "  </thead>\n",
       "  <tbody>\n",
       "    <tr>\n",
       "      <th>0</th>\n",
       "      <td>10</td>\n",
       "      <td>3.0</td>\n",
       "      <td>0.0</td>\n",
       "    </tr>\n",
       "    <tr>\n",
       "      <th>1</th>\n",
       "      <td>10</td>\n",
       "      <td>-999.0</td>\n",
       "      <td>3.0</td>\n",
       "    </tr>\n",
       "    <tr>\n",
       "      <th>2</th>\n",
       "      <td>19</td>\n",
       "      <td>7.0</td>\n",
       "      <td>5.0</td>\n",
       "    </tr>\n",
       "    <tr>\n",
       "      <th>3</th>\n",
       "      <td>18</td>\n",
       "      <td>3.0</td>\n",
       "      <td>3.0</td>\n",
       "    </tr>\n",
       "    <tr>\n",
       "      <th>4</th>\n",
       "      <td>12</td>\n",
       "      <td>6.0</td>\n",
       "      <td>0.0</td>\n",
       "    </tr>\n",
       "    <tr>\n",
       "      <th>5</th>\n",
       "      <td>14</td>\n",
       "      <td>6.0</td>\n",
       "      <td>9.0</td>\n",
       "    </tr>\n",
       "    <tr>\n",
       "      <th>6</th>\n",
       "      <td>13</td>\n",
       "      <td>8.0</td>\n",
       "      <td>4.0</td>\n",
       "    </tr>\n",
       "    <tr>\n",
       "      <th>7</th>\n",
       "      <td>17</td>\n",
       "      <td>6.0</td>\n",
       "      <td>0.0</td>\n",
       "    </tr>\n",
       "    <tr>\n",
       "      <th>8</th>\n",
       "      <td>15</td>\n",
       "      <td>-999.0</td>\n",
       "      <td>0.0</td>\n",
       "    </tr>\n",
       "    <tr>\n",
       "      <th>9</th>\n",
       "      <td>15</td>\n",
       "      <td>3.0</td>\n",
       "      <td>0.0</td>\n",
       "    </tr>\n",
       "  </tbody>\n",
       "</table>\n",
       "</div>"
      ],
      "text/plain": [
       "    A      B    C\n",
       "0  10    3.0  0.0\n",
       "1  10 -999.0  3.0\n",
       "2  19    7.0  5.0\n",
       "3  18    3.0  3.0\n",
       "4  12    6.0  0.0\n",
       "5  14    6.0  9.0\n",
       "6  13    8.0  4.0\n",
       "7  17    6.0  0.0\n",
       "8  15 -999.0  0.0\n",
       "9  15    3.0  0.0"
      ]
     },
     "execution_count": 8,
     "metadata": {},
     "output_type": "execute_result"
    }
   ],
   "source": [
    "#用字典指定值替换NA\n",
    "df_nan.fillna({\"B\":-999, \"C\":0})"
   ]
  },
  {
   "cell_type": "code",
   "execution_count": 11,
   "metadata": {
    "collapsed": false
   },
   "outputs": [
    {
     "name": "stdout",
     "output_type": "stream",
     "text": [
      " df_nan.sum()   df_nan.sum(skipna=False)  df_nan.dropna().sum()\n",
      "--------------  ------------------------  ---------------------\n",
      "A    143        A    143                  A    64              \n",
      "B     42        B    NaN                  B    24              \n",
      "C     24        C    NaN                  C    21              \n",
      "dtype: float64  dtype: float64            dtype: float64       \n"
     ]
    }
   ],
   "source": [
    "#聚合方法中的NA处理\n",
    "%C df_nan.sum(); df_nan.sum(skipna=False); df_nan.dropna().sum()"
   ]
  },
  {
   "cell_type": "code",
   "execution_count": 12,
   "metadata": {
    "collapsed": false
   },
   "outputs": [
    {
     "name": "stdout",
     "output_type": "stream",
     "text": [
      "    A  B   C\n",
      "0  10  3 NaN\n",
      "1  10  4   3\n",
      "2  19  7   5\n",
      "3  18  3   3\n",
      "4  12  6 NaN\n",
      "5  14  6   9\n",
      "6  13  8   4\n",
      "7  17  6 NaN\n",
      "8  15  4   5\n",
      "9  15  3   5\n"
     ]
    }
   ],
   "source": [
    "#使用other df中的同位置元素更新df中的NA元素，同位置指行列标签相同\n",
    "df_other = pd.DataFrame(np.random.randint(0, 10, (4, 2)), \n",
    "                        columns=[\"B\", \"C\"], \n",
    "                        index=[1, 2, 8, 9])\n",
    "print((df_nan.combine_first(df_other)))"
   ]
  }
 ],
 "metadata": {
  "kernelspec": {
   "display_name": "Python 3.10.2 64-bit",
   "language": "python",
   "name": "python3"
  },
  "language_info": {
   "codemirror_mode": {
    "name": "ipython",
    "version": 3
   },
   "file_extension": ".py",
   "mimetype": "text/x-python",
   "name": "python",
   "nbconvert_exporter": "python",
   "pygments_lexer": "ipython3",
   "version": "3.10.2"
  },
  "vscode": {
   "interpreter": {
    "hash": "d99a3f7b344b3c3107482760db15f42178bfad658d282ab0a919b76809e13cb5"
   }
  }
 },
 "nbformat": 4,
 "nbformat_minor": 0
}
