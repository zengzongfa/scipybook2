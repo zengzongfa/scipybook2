{
 "cells": [
  {
   "cell_type": "code",
   "execution_count": 1,
   "metadata": {
    "collapsed": true
   },
   "outputs": [],
   "source": [
    "import pandas as pd\n",
    "import numpy as np"
   ]
  },
  {
   "cell_type": "markdown",
   "metadata": {},
   "source": [
    "## 时间序列"
   ]
  },
  {
   "cell_type": "markdown",
   "metadata": {},
   "source": [
    "### 时间点、时间段、时间间隔"
   ]
  },
  {
   "cell_type": "code",
   "execution_count": 2,
   "metadata": {
    "collapsed": false
   },
   "outputs": [
    {
     "name": "stdout",
     "output_type": "stream",
     "text": [
      "('本地时间:', Timestamp('2022-07-04 14:39:06.784710'))\n",
      "('上海时区:', Timestamp('2022-07-04 14:39:06.784710+0800', tz='Asia/Shanghai'))\n",
      "('东京时区:', Timestamp('2022-07-04 15:39:06.784710+0900', tz='Asia/Tokyo'))\n"
     ]
    }
   ],
   "source": [
    "now = pd.Timestamp.now()\n",
    "now_shanghai = now.tz_localize(\"Asia/Shanghai\")\n",
    "now_tokyo = now_shanghai.tz_convert(\"Asia/Tokyo\")\n",
    "print((\"本地时间:\", now))\n",
    "print((\"上海时区:\", now_shanghai))\n",
    "print((\"东京时区:\", now_tokyo))"
   ]
  },
  {
   "cell_type": "code",
   "execution_count": 3,
   "metadata": {
    "collapsed": false
   },
   "outputs": [
    {
     "data": {
      "text/plain": [
       "True"
      ]
     },
     "execution_count": 3,
     "metadata": {},
     "output_type": "execute_result"
    }
   ],
   "source": [
    "now_shanghai == now_tokyo"
   ]
  },
  {
   "cell_type": "code",
   "execution_count": 5,
   "metadata": {
    "collapsed": false
   },
   "outputs": [
    {
     "name": "stdout",
     "output_type": "stream",
     "text": [
      "['Africa/Abidjan',\n",
      " 'Africa/Accra',\n",
      " 'Africa/Addis_Ababa',\n",
      " 'Africa/Algiers',\n",
      "...\n"
     ]
    }
   ],
   "source": [
    "#获取常用表示时区的字符串\n",
    "import pytz\n",
    "%omit pytz.common_timezones"
   ]
  },
  {
   "cell_type": "code",
   "execution_count": 14,
   "metadata": {
    "collapsed": false
   },
   "outputs": [
    {
     "name": "stdout",
     "output_type": "stream",
     "text": [
      "         now_day                       now_hour           \n",
      "-------------------------  -------------------------------\n",
      "Period('2022-07-04', 'D')  Period('2022-07-04 15:00', 'H')\n"
     ]
    }
   ],
   "source": [
    "now_day = pd.Period.now(freq=\"D\")\n",
    "now_hour = pd.Period.now(freq=\"H\")\n",
    "%C now_day; now_hour"
   ]
  },
  {
   "cell_type": "code",
   "execution_count": 11,
   "metadata": {
    "collapsed": false
   },
   "outputs": [
    {
     "ename": "TypeError",
     "evalue": "'str' object is not callable",
     "output_type": "error",
     "traceback": [
      "\u001b[1;31m---------------------------------------------------------------------------\u001b[0m",
      "\u001b[1;31mTypeError\u001b[0m                                 Traceback (most recent call last)",
      "\u001b[1;32mf:\\我的文档\\Github\\scipybook2\\Notebooks\\05-pandas\\pandas-600-datetime.ipynb Cell 13'\u001b[0m in \u001b[0;36m<cell line: 2>\u001b[1;34m()\u001b[0m\n\u001b[0;32m      <a href='vscode-notebook-cell:/f%3A/%E6%88%91%E7%9A%84%E6%96%87%E6%A1%A3/Github/scipybook2/Notebooks/05-pandas/pandas-600-datetime.ipynb#ch0000012?line=0'>1</a>\u001b[0m \u001b[39mfrom\u001b[39;00m \u001b[39mpandas\u001b[39;00m\u001b[39m.\u001b[39;00m\u001b[39mtseries\u001b[39;00m \u001b[39mimport\u001b[39;00m frequencies\n\u001b[1;32m----> <a href='vscode-notebook-cell:/f%3A/%E6%88%91%E7%9A%84%E6%96%87%E6%A1%A3/Github/scipybook2/Notebooks/05-pandas/pandas-600-datetime.ipynb#ch0000012?line=1'>2</a>\u001b[0m frequencies\u001b[39m.\u001b[39;49mkey()\n",
      "\u001b[1;31mTypeError\u001b[0m: 'str' object is not callable"
     ]
    }
   ],
   "source": [
    "#代码不兼容，放弃\n",
    "from pandas.tseries import frequencies\n",
    "list(frequencies._period_code_map.keys())\n",
    "frequencies._period_alias_dictionary()"
   ]
  },
  {
   "cell_type": "code",
   "execution_count": 12,
   "metadata": {
    "collapsed": false
   },
   "outputs": [
    {
     "name": "stdout",
     "output_type": "stream",
     "text": [
      "              now_week_sun                              now_week_mon              \n",
      "----------------------------------------  ----------------------------------------\n",
      "Period('2022-07-04/2022-07-10', 'W-SUN')  Period('2022-06-28/2022-07-04', 'W-MON')\n"
     ]
    }
   ],
   "source": [
    "#周时间段\n",
    "now_week_sun = pd.Period.now(freq=\"W\")\n",
    "now_week_mon = pd.Period.now(freq=\"W-MON\")\n",
    "%C now_week_sun; now_week_mon"
   ]
  },
  {
   "cell_type": "code",
   "execution_count": 15,
   "metadata": {
    "collapsed": false
   },
   "outputs": [
    {
     "name": "stdout",
     "output_type": "stream",
     "text": [
      "       now_day.start_time                      now_day.end_time             \n",
      "--------------------------------  ------------------------------------------\n",
      "Timestamp('2022-07-04 00:00:00')  Timestamp('2022-07-04 23:59:59.999999999')\n"
     ]
    }
   ],
   "source": [
    "%C now_day.start_time; now_day.end_time"
   ]
  },
  {
   "cell_type": "code",
   "execution_count": 19,
   "metadata": {
    "collapsed": false
   },
   "outputs": [
    {
     "data": {
      "text/plain": [
       "Period('2022-07-04 14:00', 'H')"
      ]
     },
     "execution_count": 19,
     "metadata": {},
     "output_type": "execute_result"
    }
   ],
   "source": [
    "# now_shanghai.to_period(\"H\")\n",
    "now.to_period(\"H\")"
   ]
  },
  {
   "cell_type": "code",
   "execution_count": 20,
   "metadata": {
    "collapsed": false
   },
   "outputs": [
    {
     "name": "stdout",
     "output_type": "stream",
     "text": [
      "now.year  now.month  now.day  now.dayofweek  now.dayofyear  now.hour\n",
      "--------  ---------  -------  -------------  -------------  --------\n",
      "2022      7          4        0              185            14      \n"
     ]
    }
   ],
   "source": [
    "%C now.year; now.month; now.day; now.dayofweek; now.dayofyear; now.hour"
   ]
  },
  {
   "cell_type": "code",
   "execution_count": 21,
   "metadata": {
    "collapsed": false
   },
   "outputs": [
    {
     "data": {
      "text/plain": [
       "Timedelta('88 days 08:43:01.099391')"
      ]
     },
     "execution_count": 21,
     "metadata": {},
     "output_type": "execute_result"
    }
   ],
   "source": [
    "national_day = pd.Timestamp(\"2022-10-1\")\n",
    "td = national_day - pd.Timestamp.now()\n",
    "td"
   ]
  },
  {
   "cell_type": "code",
   "execution_count": 22,
   "metadata": {
    "collapsed": false
   },
   "outputs": [
    {
     "data": {
      "text/plain": [
       "Timestamp('2022-10-21 10:20:30')"
      ]
     },
     "execution_count": 22,
     "metadata": {},
     "output_type": "execute_result"
    }
   ],
   "source": [
    "national_day + pd.Timedelta(\"20 days 10:20:30\") "
   ]
  },
  {
   "cell_type": "code",
   "execution_count": 23,
   "metadata": {
    "collapsed": false
   },
   "outputs": [
    {
     "name": "stdout",
     "output_type": "stream",
     "text": [
      "td.days  td.seconds  td.microseconds\n",
      "-------  ----------  ---------------\n",
      "88       31381       99391          \n"
     ]
    }
   ],
   "source": [
    "%C td.days; td.seconds; td.microseconds"
   ]
  },
  {
   "cell_type": "code",
   "execution_count": 24,
   "metadata": {
    "collapsed": false
   },
   "outputs": [
    {
     "name": "stdout",
     "output_type": "stream",
     "text": [
      "10 days 01:02:10.500000\n",
      "1 days 03:46:40\n"
     ]
    }
   ],
   "source": [
    "print((pd.Timedelta(days=10, hours=1, minutes=2, seconds=10.5)))\n",
    "print((pd.Timedelta(seconds=100000)))"
   ]
  },
  {
   "cell_type": "markdown",
   "metadata": {},
   "source": [
    "### 时间序列"
   ]
  },
  {
   "cell_type": "code",
   "execution_count": 36,
   "metadata": {
    "collapsed": false
   },
   "outputs": [
    {
     "name": "stdout",
     "output_type": "stream",
     "text": [
      "DatetimeIndex(['2015-01-15 16:12:00', '2015-02-15 08:04:00',\n",
      "               '2015-02-28 12:30:00', '2015-08-06 02:40:00',\n",
      "               '2015-08-18 13:13:00'],\n",
      "              dtype='datetime64[ns]', freq=None)\n",
      "PeriodIndex(['2015-01', '2015-02', '2015-02', '2015-08', '2015-08'], dtype='period[M]')\n",
      "TimedeltaIndex(['30 days 15:52:00', '13 days 04:26:00', '158 days 14:10:00',\n",
      "                '12 days 10:33:00'],\n",
      "               dtype='timedelta64[ns]', freq=None)\n"
     ]
    }
   ],
   "source": [
    "def random_timestamps(start, end, freq, count):\n",
    "    index = pd.date_range(start, end, freq=freq) #生成时间序列\n",
    "    locations = np.random.choice(np.arange(len(index)), size=count, replace=False) #随机抽取整数用于索引下标\n",
    "    locations.sort() #排序\n",
    "    return index[locations]\n",
    "\n",
    "np.random.seed(42)\n",
    "ts_index = random_timestamps(\"2015-01-01\", \"2015-10-01\", freq=\"Min\", count=5)\n",
    "pd_index = ts_index.to_period(\"M\")\n",
    "td_index = pd.TimedeltaIndex(np.diff(ts_index)) #时间想减转成timedelta\n",
    "\n",
    "print(ts_index, sep=\"\\n\")\n",
    "print(pd_index, sep=\"\\n\")\n",
    "print(td_index, sep=\"\\n\")"
   ]
  },
  {
   "cell_type": "code",
   "execution_count": 37,
   "metadata": {
    "collapsed": false
   },
   "outputs": [
    {
     "name": "stdout",
     "output_type": "stream",
     "text": [
      " ts_index.dtype   pd_index.dtype   td_index.dtype \n",
      "----------------  --------------  ----------------\n",
      "dtype('<M8[ns]')  period[M]       dtype('<m8[ns]')\n"
     ]
    }
   ],
   "source": [
    "%C ts_index.dtype; pd_index.dtype; td_index.dtype"
   ]
  },
  {
   "cell_type": "code",
   "execution_count": 38,
   "metadata": {
    "collapsed": false
   },
   "outputs": [
    {
     "name": "stdout",
     "output_type": "stream",
     "text": [
      "             ts_index.weekday                             pd_index.month                                    td_index.seconds                   \n",
      "------------------------------------------  ------------------------------------------  -------------------------------------------------------\n",
      "Int64Index([3, 6, 5, 3, 1], dtype='int64')  Int64Index([1, 2, 2, 8, 8], dtype='int64')  Int64Index([57120, 15960, 51000, 37980], dtype='int64')\n"
     ]
    }
   ],
   "source": [
    "%C ts_index.weekday; pd_index.month; td_index.seconds"
   ]
  },
  {
   "cell_type": "code",
   "execution_count": 39,
   "metadata": {
    "collapsed": false
   },
   "outputs": [
    {
     "data": {
      "text/plain": [
       "DatetimeIndex(['2015-01-15 17:12:00', '2015-02-15 09:04:00',\n",
       "               '2015-02-28 13:30:00', '2015-08-06 03:40:00',\n",
       "               '2015-08-18 14:13:00'],\n",
       "              dtype='datetime64[ns]', freq=None)"
      ]
     },
     "execution_count": 39,
     "metadata": {},
     "output_type": "execute_result"
    }
   ],
   "source": [
    "#按周期移动时间\n",
    "ts_index.shift(1, \"H\")"
   ]
  },
  {
   "cell_type": "code",
   "execution_count": 21,
   "metadata": {
    "collapsed": false
   },
   "outputs": [
    {
     "data": {
      "text/plain": [
       "DatetimeIndex(['2015-01-31 16:12:00', '2015-02-28 08:04:00',\n",
       "               '2015-03-31 12:30:00', '2015-08-31 02:40:00',\n",
       "               '2015-08-31 13:13:00'],\n",
       "              dtype='datetime64[ns]', freq=None, tz=None)"
      ]
     },
     "execution_count": 21,
     "metadata": {},
     "output_type": "execute_result"
    }
   ],
   "source": [
    "#月份不是精确的时间单位，所以时间会移动到该月末尾。因为一个月天数不固定，年也是同样的道理。\n",
    "ts_index.shift(1, \"M\")"
   ]
  },
  {
   "cell_type": "code",
   "execution_count": 41,
   "metadata": {
    "collapsed": false
   },
   "outputs": [
    {
     "data": {
      "text/plain": [
       "DatetimeIndex(['2015-01-15', '2015-02-15', '2015-02-28', '2015-08-06',\n",
       "               '2015-08-18'],\n",
       "              dtype='datetime64[ns]', freq=None)"
      ]
     },
     "execution_count": 41,
     "metadata": {},
     "output_type": "execute_result"
    }
   ],
   "source": [
    "#按日期取整\n",
    "ts_index.normalize()"
   ]
  },
  {
   "cell_type": "code",
   "execution_count": 43,
   "metadata": {
    "collapsed": false
   },
   "outputs": [
    {
     "data": {
      "text/plain": [
       "DatetimeIndex(['2015-01-15 16:00:00', '2015-02-15 08:00:00',\n",
       "               '2015-02-28 12:00:00', '2015-08-06 02:00:00',\n",
       "               '2015-08-18 13:00:00'],\n",
       "              dtype='datetime64[ns]', freq=None)"
      ]
     },
     "execution_count": 43,
     "metadata": {},
     "output_type": "execute_result"
    }
   ],
   "source": [
    "#使用周期来取整\n",
    "ts_index.to_period(\"H\").to_timestamp()"
   ]
  },
  {
   "cell_type": "code",
   "execution_count": 44,
   "metadata": {
    "collapsed": true
   },
   "outputs": [
    {
     "data": {
      "text/plain": [
       "2015-01-15 16:12:00    0\n",
       "2015-02-15 08:04:00    1\n",
       "2015-02-28 12:30:00    2\n",
       "2015-08-06 02:40:00    3\n",
       "2015-08-18 13:13:00    4\n",
       "dtype: int64"
      ]
     },
     "execution_count": 44,
     "metadata": {},
     "output_type": "execute_result"
    }
   ],
   "source": [
    "#生成以时间序列为index的系列\n",
    "ts_series = pd.Series(list(range(5)), index=ts_index)\n",
    "ts_series"
   ]
  },
  {
   "cell_type": "code",
   "execution_count": 45,
   "metadata": {
    "collapsed": false
   },
   "outputs": [
    {
     "data": {
      "text/plain": [
       "2015-01-15 16:12:00    0\n",
       "2015-02-28 12:30:00    2\n",
       "2015-08-18 13:13:00    4\n",
       "dtype: int64"
      ]
     },
     "execution_count": 45,
     "metadata": {},
     "output_type": "execute_result"
    }
   ],
   "source": [
    "#时间index筛选\n",
    "ts_series.between_time(\"9:00\", \"18:00\")"
   ]
  },
  {
   "cell_type": "code",
   "execution_count": 47,
   "metadata": {
    "collapsed": false
   },
   "outputs": [
    {
     "data": {
      "text/plain": [
       "2015-01-16 16:12:00    0\n",
       "2015-02-16 08:04:00    1\n",
       "2015-03-01 12:30:00    2\n",
       "2015-08-07 02:40:00    3\n",
       "2015-08-19 13:13:00    4\n",
       "dtype: int64"
      ]
     },
     "execution_count": 47,
     "metadata": {},
     "output_type": "execute_result"
    }
   ],
   "source": [
    "#操作时间index\n",
    "ts_series.shift(1, freq=\"D\")"
   ]
  },
  {
   "cell_type": "code",
   "execution_count": 50,
   "metadata": {
    "collapsed": false
   },
   "outputs": [
    {
     "name": "stdout",
     "output_type": "stream",
     "text": [
      "pd_series.shift(1,freq=\"M\")  td_series.shift(10, freq=\"H\")\n",
      "---------------------------  -----------------------------\n",
      "2015-02    0                 31 days 01:52:00     0       \n",
      "2015-03    1                 13 days 14:26:00     1       \n",
      "2015-03    2                 159 days 00:10:00    2       \n",
      "2015-09    3                 12 days 20:33:00     3       \n",
      "2015-09    4                 dtype: int64                 \n",
      "Freq: M, dtype: int64                                     \n"
     ]
    }
   ],
   "source": [
    "#tshift函数升级为shift\n",
    "pd_series = pd.Series(range(5), index=pd_index)\n",
    "td_series = pd.Series(range(4), index=td_index)\n",
    "%C pd_series.shift(1,freq=\"M\"); td_series.shift(10, freq=\"H\")"
   ]
  },
  {
   "cell_type": "code",
   "execution_count": 51,
   "metadata": {
    "collapsed": false
   },
   "outputs": [
    {
     "name": "stdout",
     "output_type": "stream",
     "text": [
      " ts_data.dtype    pd_data.dtype   td_data.dtype  \n",
      "----------------  -------------  ----------------\n",
      "dtype('<M8[ns]')  period[M]      dtype('<m8[ns]')\n"
     ]
    }
   ],
   "source": [
    "#将时间序列作为列数据\n",
    "ts_data = pd.Series(ts_index)\n",
    "pd_data = pd.Series(pd_index)\n",
    "td_data = pd.Series(td_index)\n",
    "%C ts_data.dtype; pd_data.dtype; td_data.dtype"
   ]
  },
  {
   "cell_type": "code",
   "execution_count": 52,
   "metadata": {
    "collapsed": false
   },
   "outputs": [
    {
     "name": "stdout",
     "output_type": "stream",
     "text": [
      "ts_data.dt.hour  pd_data.dt.month  td_data.dt.days\n",
      "---------------  ----------------  ---------------\n",
      "0    16          0    1            0     30       \n",
      "1     8          1    2            1     13       \n",
      "2    12          2    2            2    158       \n",
      "3     2          3    8            3     12       \n",
      "4    13          4    8            dtype: int64   \n",
      "dtype: int64     dtype: int64                     \n"
     ]
    }
   ],
   "source": [
    "#时间序列作为数据时可以通过dt属性调用时间属性\n",
    "%C ts_data.dt.hour; pd_data.dt.month; td_data.dt.days"
   ]
  }
 ],
 "metadata": {
  "kernelspec": {
   "display_name": "Python 3.10.2 64-bit",
   "language": "python",
   "name": "python3"
  },
  "language_info": {
   "codemirror_mode": {
    "name": "ipython",
    "version": 3
   },
   "file_extension": ".py",
   "mimetype": "text/x-python",
   "name": "python",
   "nbconvert_exporter": "python",
   "pygments_lexer": "ipython3",
   "version": "3.10.2"
  },
  "vscode": {
   "interpreter": {
    "hash": "d99a3f7b344b3c3107482760db15f42178bfad658d282ab0a919b76809e13cb5"
   }
  }
 },
 "nbformat": 4,
 "nbformat_minor": 0
}
