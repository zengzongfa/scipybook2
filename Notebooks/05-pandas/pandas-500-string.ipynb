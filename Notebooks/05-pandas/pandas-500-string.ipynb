{
 "cells": [
  {
   "cell_type": "code",
   "execution_count": 10,
   "metadata": {
    "collapsed": true
   },
   "outputs": [],
   "source": [
    "import pandas as pd\n",
    "import numpy as np\n",
    "from icecream import ic"
   ]
  },
  {
   "cell_type": "markdown",
   "metadata": {},
   "source": [
    "### 字符串处理"
   ]
  },
  {
   "cell_type": "code",
   "execution_count": 11,
   "metadata": {
    "collapsed": false
   },
   "outputs": [
    {
     "name": "stdout",
     "output_type": "stream",
     "text": [
      "0    A\n",
      "1    B\n",
      "2    C\n",
      "dtype: object\n"
     ]
    }
   ],
   "source": [
    "s_abc = pd.Series([\"a\", \"b\", \"c\"])\n",
    "print((s_abc.str.upper()))"
   ]
  },
  {
   "cell_type": "code",
   "execution_count": 12,
   "metadata": {
    "collapsed": false
   },
   "outputs": [
    {
     "name": "stdout",
     "output_type": "stream",
     "text": [
      "0     6\n",
      "1     9\n",
      "2    12\n",
      "dtype: int64\n",
      "0    2\n",
      "1    3\n",
      "2    4\n",
      "dtype: int64\n",
      "0    4\n",
      "1    6\n",
      "2    8\n",
      "dtype: int64\n",
      "b'\\xe5\\x8c\\x97\\xe4\\xba\\xac'\n",
      "b'\\xe5\\x8c\\x97\\xe4\\xba\\xac'\n",
      "b'\\xb1\\xb1\\xbe\\xa9'\n"
     ]
    }
   ],
   "source": [
    "s = pd.Series([u\"北京\", u\"北京市\", u\"北京地区\"]) #字符串\n",
    "s_utf8=s.str.encode(\"utf-8\") #utf-8二进制\n",
    "s_unicode = s_utf8.str.decode(\"utf-8\") #字符串\n",
    "s_gb2312 = s_unicode.str.encode(\"gb2312\") #gb2312二进制\n",
    "\n",
    "print(s_utf8.str.len(),s_unicode.str.len(),s_gb2312.str.len(),sep=\"\\n\")\n",
    "#len函数作用于二进制和字符串的效果是不同的\n",
    "print(\"北京\".encode()) #默认unicode编码\n",
    "print(\"北京\".encode(\"utf-8\"))\n",
    "print(\"北京\".encode(\"gb2312\"))"
   ]
  },
  {
   "cell_type": "code",
   "execution_count": 13,
   "metadata": {
    "collapsed": false
   },
   "outputs": [
    {
     "name": "stdout",
     "output_type": "stream",
     "text": [
      "0    北京\n",
      "1    北京\n",
      "2    北京\n",
      "dtype: object\n"
     ]
    }
   ],
   "source": [
    "print((s_unicode.str[:2]))"
   ]
  },
  {
   "cell_type": "code",
   "execution_count": 14,
   "metadata": {
    "collapsed": false
   },
   "outputs": [
    {
     "name": "stdout",
     "output_type": "stream",
     "text": [
      "0      北京-aa\n",
      "1     北京市-bb\n",
      "2    北京地区-cc\n",
      "dtype: object\n"
     ]
    }
   ],
   "source": [
    "print((s_unicode + \"-\" + s_abc * 2)) #df的加法针对index相同\n"
   ]
  },
  {
   "cell_type": "code",
   "execution_count": 15,
   "metadata": {
    "collapsed": false
   },
   "outputs": [
    {
     "name": "stdout",
     "output_type": "stream",
     "text": [
      "0      北京-a\n",
      "1     北京市-b\n",
      "2    北京地区-c\n",
      "dtype: object\n"
     ]
    }
   ],
   "source": [
    "print((s_unicode.str.cat(s_abc, sep=\"-\")))#str连接函数"
   ]
  },
  {
   "cell_type": "code",
   "execution_count": 16,
   "metadata": {
    "collapsed": false
   },
   "outputs": [
    {
     "name": "stdout",
     "output_type": "stream",
     "text": [
      "0    2\n",
      "1    3\n",
      "2    4\n",
      "dtype: object\n"
     ]
    }
   ],
   "source": [
    "print((s_unicode.str.len().astype(str)))"
   ]
  },
  {
   "cell_type": "code",
   "execution_count": 17,
   "metadata": {
    "collapsed": false
   },
   "outputs": [
    {
     "name": "stdout",
     "output_type": "stream",
     "text": [
      "      s              s_list          s_comma   \n",
      "-------------  -----------------  -------------\n",
      "0     a|bc|de  0     [a, bc, de]  0     a,bc,de\n",
      "1    x|xyz|yz  1    [x, xyz, yz]  1    x,xyz,yz\n",
      "dtype: object  dtype: object      dtype: object\n"
     ]
    }
   ],
   "source": [
    "s = pd.Series([\"a|bc|de\", \"x|xyz|yz\"])\n",
    "s_list = s.str.split(\"|\")\n",
    "s_comma = s_list.str.join(\",\")\n",
    "%C s;s_list;s_comma"
   ]
  },
  {
   "cell_type": "code",
   "execution_count": 18,
   "metadata": {
    "collapsed": false
   },
   "outputs": [
    {
     "data": {
      "text/plain": [
       "0     [a, bc, de]\n",
       "1    [x, xyz, yz]\n",
       "dtype: object"
      ]
     },
     "execution_count": 18,
     "metadata": {},
     "output_type": "execute_result"
    }
   ],
   "source": [
    "s_list.str[1] #series的元素为列表时，可以经由str进行索引或切片\n",
    "s_list.str[:3]"
   ]
  },
  {
   "cell_type": "code",
   "execution_count": 19,
   "metadata": {
    "collapsed": false
   },
   "outputs": [
    {
     "data": {
      "text/html": [
       "<div>\n",
       "<style scoped>\n",
       "    .dataframe tbody tr th:only-of-type {\n",
       "        vertical-align: middle;\n",
       "    }\n",
       "\n",
       "    .dataframe tbody tr th {\n",
       "        vertical-align: top;\n",
       "    }\n",
       "\n",
       "    .dataframe thead th {\n",
       "        text-align: right;\n",
       "    }\n",
       "</style>\n",
       "<table border=\"1\" class=\"dataframe\">\n",
       "  <thead>\n",
       "    <tr style=\"text-align: right;\">\n",
       "      <th></th>\n",
       "      <th>A</th>\n",
       "      <th>B</th>\n",
       "      <th>C</th>\n",
       "    </tr>\n",
       "  </thead>\n",
       "  <tbody>\n",
       "    <tr>\n",
       "      <th>0</th>\n",
       "      <td>a</td>\n",
       "      <td>bc</td>\n",
       "      <td>de</td>\n",
       "    </tr>\n",
       "    <tr>\n",
       "      <th>1</th>\n",
       "      <td>x</td>\n",
       "      <td>xyz</td>\n",
       "      <td>yz</td>\n",
       "    </tr>\n",
       "  </tbody>\n",
       "</table>\n",
       "</div>"
      ],
      "text/plain": [
       "   A    B   C\n",
       "0  a   bc  de\n",
       "1  x  xyz  yz"
      ]
     },
     "execution_count": 19,
     "metadata": {},
     "output_type": "execute_result"
    }
   ],
   "source": [
    "pd.DataFrame(s_list.tolist(), columns=[\"A\", \"B\", \"C\"]) #使用tolist方法将series转换为列表，再转换为df"
   ]
  },
  {
   "cell_type": "code",
   "execution_count": 20,
   "metadata": {
    "collapsed": false
   },
   "outputs": [
    {
     "name": "stdout",
     "output_type": "stream",
     "text": [
      "   0    1   2\n",
      "0  a   bc  de\n",
      "1  x  xyz  yz\n",
      "-----------------------sep------------------------\n",
      "   A    B\n",
      "0  a   bc\n",
      "1  x  xyz\n"
     ]
    }
   ],
   "source": [
    "#使用正则表达式方法从series中抽出适当的元素组成df,括号代表group\n",
    "df_extract1 = s.str.extract(r\"(\\w+)\\|(\\w+)\\|(\\w+)\")\n",
    "df_extract2 = s.str.extract(r\"(?P<A>\\w+)\\|(?P<B>\\w+)|\") #?P<colname>\n",
    "print(df_extract1)\n",
    "print(\"sep\".center(50,\"-\"))\n",
    "print(df_extract2)\n"
   ]
  },
  {
   "cell_type": "code",
   "execution_count": 21,
   "metadata": {
    "collapsed": false
   },
   "outputs": [
    {
     "data": {
      "text/html": [
       "<div>\n",
       "<style scoped>\n",
       "    .dataframe tbody tr th:only-of-type {\n",
       "        vertical-align: middle;\n",
       "    }\n",
       "\n",
       "    .dataframe tbody tr th {\n",
       "        vertical-align: top;\n",
       "    }\n",
       "\n",
       "    .dataframe thead th {\n",
       "        text-align: right;\n",
       "    }\n",
       "</style>\n",
       "<table border=\"1\" class=\"dataframe\">\n",
       "  <thead>\n",
       "    <tr style=\"text-align: right;\">\n",
       "      <th></th>\n",
       "      <th>0</th>\n",
       "      <th>1</th>\n",
       "    </tr>\n",
       "  </thead>\n",
       "  <tbody>\n",
       "    <tr>\n",
       "      <th>0</th>\n",
       "      <td>A</td>\n",
       "      <td>B|C|D</td>\n",
       "    </tr>\n",
       "    <tr>\n",
       "      <th>1</th>\n",
       "      <td>B</td>\n",
       "      <td>E|F</td>\n",
       "    </tr>\n",
       "    <tr>\n",
       "      <th>2</th>\n",
       "      <td>C</td>\n",
       "      <td>A</td>\n",
       "    </tr>\n",
       "    <tr>\n",
       "      <th>3</th>\n",
       "      <td>D</td>\n",
       "      <td>B|C</td>\n",
       "    </tr>\n",
       "  </tbody>\n",
       "</table>\n",
       "</div>"
      ],
      "text/plain": [
       "   0      1\n",
       "0  A  B|C|D\n",
       "1  B    E|F\n",
       "2  C      A\n",
       "3  D    B|C"
      ]
     },
     "execution_count": 21,
     "metadata": {},
     "output_type": "execute_result"
    }
   ],
   "source": [
    "#用read_csv的方法从string变量中读数据\n",
    "import io\n",
    "text = \"\"\"A, B|C|D\n",
    "B, E|F\n",
    "C, A\n",
    "D, B|C\n",
    "\"\"\"\n",
    "df = pd.read_csv(io.StringIO(text), skipinitialspace=True, header=None) #忽略掉分隔符后面的空格\n",
    "df"
   ]
  },
  {
   "cell_type": "code",
   "execution_count": 22,
   "metadata": {
    "collapsed": false
   },
   "outputs": [
    {
     "data": {
      "text/html": [
       "<div>\n",
       "<style scoped>\n",
       "    .dataframe tbody tr th:only-of-type {\n",
       "        vertical-align: middle;\n",
       "    }\n",
       "\n",
       "    .dataframe tbody tr th {\n",
       "        vertical-align: top;\n",
       "    }\n",
       "\n",
       "    .dataframe thead th {\n",
       "        text-align: right;\n",
       "    }\n",
       "</style>\n",
       "<table border=\"1\" class=\"dataframe\">\n",
       "  <thead>\n",
       "    <tr style=\"text-align: right;\">\n",
       "      <th></th>\n",
       "      <th>from_node</th>\n",
       "      <th>to_node</th>\n",
       "    </tr>\n",
       "  </thead>\n",
       "  <tbody>\n",
       "    <tr>\n",
       "      <th>0</th>\n",
       "      <td>A</td>\n",
       "      <td>B</td>\n",
       "    </tr>\n",
       "    <tr>\n",
       "      <th>1</th>\n",
       "      <td>A</td>\n",
       "      <td>C</td>\n",
       "    </tr>\n",
       "    <tr>\n",
       "      <th>2</th>\n",
       "      <td>A</td>\n",
       "      <td>D</td>\n",
       "    </tr>\n",
       "    <tr>\n",
       "      <th>3</th>\n",
       "      <td>B</td>\n",
       "      <td>E</td>\n",
       "    </tr>\n",
       "    <tr>\n",
       "      <th>4</th>\n",
       "      <td>B</td>\n",
       "      <td>F</td>\n",
       "    </tr>\n",
       "    <tr>\n",
       "      <th>5</th>\n",
       "      <td>C</td>\n",
       "      <td>A</td>\n",
       "    </tr>\n",
       "    <tr>\n",
       "      <th>6</th>\n",
       "      <td>D</td>\n",
       "      <td>B</td>\n",
       "    </tr>\n",
       "    <tr>\n",
       "      <th>7</th>\n",
       "      <td>D</td>\n",
       "      <td>C</td>\n",
       "    </tr>\n",
       "  </tbody>\n",
       "</table>\n",
       "</div>"
      ],
      "text/plain": [
       "  from_node to_node\n",
       "0         A       B\n",
       "1         A       C\n",
       "2         A       D\n",
       "3         B       E\n",
       "4         B       F\n",
       "5         C       A\n",
       "6         D       B\n",
       "7         D       C"
      ]
     },
     "execution_count": 22,
     "metadata": {},
     "output_type": "execute_result"
    }
   ],
   "source": [
    "nodes = df[1].str.split(\"|\") #把数据列1的元素拆分成列表\n",
    "from_node = df[0].values.repeat(nodes.str.len()) #将第一列数据按照第二列元素列表长度重复\n",
    "to_node = np.concatenate(nodes) #因为元素list长度不一样，所以不好用ravel进行展平，故使用concatenate进行矩阵合并\n",
    "\n",
    "df2=pd.DataFrame({\"from_node\":from_node, \"to_node\":to_node}) #字典赋值\n",
    "df2"
   ]
  },
  {
   "cell_type": "code",
   "execution_count": 23,
   "metadata": {
    "collapsed": false
   },
   "outputs": [
    {
     "name": "stdout",
     "output_type": "stream",
     "text": [
      "   A  B  C  D  E  F\n",
      "0  0  1  1  1  0  0\n",
      "1  0  0  0  0  1  1\n",
      "2  1  0  0  0  0  0\n",
      "3  0  1  1  0  0  0\n"
     ]
    }
   ],
   "source": [
    "print((df[1].str.get_dummies(sep=\"|\"))) #每行是否包含某个列标签"
   ]
  },
  {
   "cell_type": "code",
   "execution_count": 24,
   "metadata": {
    "collapsed": false
   },
   "outputs": [
    {
     "data": {
      "text/plain": [
       "0    D\n",
       "1    F\n",
       "2    A\n",
       "3    C\n",
       "Name: 1, dtype: object"
      ]
     },
     "execution_count": 24,
     "metadata": {},
     "output_type": "execute_result"
    }
   ],
   "source": [
    "df[1].map(lambda s:max(s.split(\"|\"))) #使用map函数针对每个元素做运算"
   ]
  },
  {
   "cell_type": "code",
   "execution_count": 25,
   "metadata": {
    "collapsed": false
   },
   "outputs": [
    {
     "name": "stdout",
     "output_type": "stream",
     "text": [
      "Contour     object\n",
      "Depth       object\n",
      "Gp          object\n",
      "pH         float64\n",
      "dtype: object\n"
     ]
    }
   ],
   "source": [
    "df_soil = pd.read_csv(\"Soils.csv\", usecols=[2, 3, 4, 6])\n",
    "print((df_soil.dtypes))"
   ]
  },
  {
   "cell_type": "code",
   "execution_count": 26,
   "metadata": {
    "collapsed": false
   },
   "outputs": [
    {
     "name": "stdout",
     "output_type": "stream",
     "text": [
      "Contour    category\n",
      "Depth      category\n",
      "Gp         category\n",
      "pH          float64\n",
      "dtype: object\n"
     ]
    }
   ],
   "source": [
    "#将文本类型的数据转换为分类变量，可以节省内存\n",
    "for col in [\"Contour\", \"Depth\", \"Gp\"]:\n",
    "    df_soil[col] = df_soil[col].astype(\"category\")\n",
    "print((df_soil.dtypes))"
   ]
  },
  {
   "cell_type": "code",
   "execution_count": 27,
   "metadata": {
    "collapsed": false
   },
   "outputs": [
    {
     "name": "stdout",
     "output_type": "stream",
     "text": [
      "Index(['D0', 'D1', 'D3', 'D6', 'S0', 'S1', 'S3', 'S6', 'T0', 'T1', 'T3', 'T6'], dtype='object')\n"
     ]
    }
   ],
   "source": [
    "Gp = df_soil.Gp\n",
    "print((Gp.cat.categories)) #cat名称空间中储存了分类变量的信息"
   ]
  },
  {
   "cell_type": "code",
   "execution_count": 28,
   "metadata": {
    "collapsed": false
   },
   "outputs": [
    {
     "name": "stdout",
     "output_type": "stream",
     "text": [
      "                                  Gp.head(5)                                    Gp.cat.codes.head(5)\n",
      "------------------------------------------------------------------------------  --------------------\n",
      "0    T0                                                                         0    8              \n",
      "1    T0                                                                         1    8              \n",
      "2    T0                                                                         2    8              \n",
      "3    T0                                                                         3    8              \n",
      "4    T1                                                                         4    9              \n",
      "Name: Gp, dtype: category                                                       dtype: int8         \n",
      "Categories (12, object): ['D0', 'D1', 'D3', 'D6', ..., 'T0', 'T1', 'T3', 'T6']                      \n"
     ]
    }
   ],
   "source": [
    "%C Gp.head(5);Gp.cat.codes.head(5)"
   ]
  },
  {
   "cell_type": "code",
   "execution_count": 33,
   "metadata": {
    "collapsed": false
   },
   "outputs": [
    {
     "name": "stdout",
     "output_type": "stream",
     "text": [
      "                depth.cat.as_ordered().head()                                           depth.head()                       \n",
      "--------------------------------------------------------------  -----------------------------------------------------------\n",
      "0     0-10                                                      0     0-10                                                 \n",
      "1     0-10                                                      1     0-10                                                 \n",
      "2     0-10                                                      2     0-10                                                 \n",
      "3     0-10                                                      3     0-10                                                 \n",
      "4    10-30                                                      4    10-30                                                 \n",
      "Name: Depth, dtype: category                                    Name: Depth, dtype: category                               \n",
      "Categories (4, object): ['0-10' < '10-30' < '30-60' < '60-90']  Categories (4, object): ['0-10', '10-30', '30-60', '60-90']\n"
     ]
    }
   ],
   "source": [
    "#分类变量分有序和无序，可以使用as_ordered()和as_unordered()进行转换\n",
    "depth = df_soil.Depth\n",
    "%C depth.cat.as_ordered().head()"
   ]
  },
  {
   "cell_type": "code",
   "execution_count": 40,
   "metadata": {
    "collapsed": false
   },
   "outputs": [
    {
     "name": "stdout",
     "output_type": "stream",
     "text": [
      "contour.cat.reorder_categories(categories, ordered=True).head()\n",
      "---------------------------------------------------------------\n",
      "0    Top                                                       \n",
      "1    Top                                                       \n",
      "2    Top                                                       \n",
      "3    Top                                                       \n",
      "4    Top                                                       \n",
      "Name: Contour, dtype: category                                 \n",
      "Categories (3, object): ['Slope' < 'Top' < 'Depression']       \n"
     ]
    }
   ],
   "source": [
    "#指定分类顺序\n",
    "contour = df_soil.Contour\n",
    "categories = [\"Slope\",\"Top\", \"Depression\"]\n",
    "%C contour.cat.reorder_categories(categories, ordered=True).head()"
   ]
  }
 ],
 "metadata": {
  "kernelspec": {
   "display_name": "Python 3.10.2 64-bit",
   "language": "python",
   "name": "python3"
  },
  "language_info": {
   "codemirror_mode": {
    "name": "ipython",
    "version": 3
   },
   "file_extension": ".py",
   "mimetype": "text/x-python",
   "name": "python",
   "nbconvert_exporter": "python",
   "pygments_lexer": "ipython3",
   "version": "3.10.2"
  },
  "vscode": {
   "interpreter": {
    "hash": "d99a3f7b344b3c3107482760db15f42178bfad658d282ab0a919b76809e13cb5"
   }
  }
 },
 "nbformat": 4,
 "nbformat_minor": 0
}
