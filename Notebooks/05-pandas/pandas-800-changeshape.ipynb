{
 "cells": [
  {
   "cell_type": "code",
   "execution_count": 1,
   "metadata": {
    "collapsed": true
   },
   "outputs": [],
   "source": [
    "import pandas as pd\n",
    "import numpy as np\n",
    "# pd.set_option(\"display.show_dimensions\", False)\n",
    "# pd.set_option(\"display.float_format\", \"{:4.2g}\".format)"
   ]
  },
  {
   "cell_type": "markdown",
   "metadata": {
    "group_control": {
     "group": 0
    }
   },
   "source": [
    "### 改变DataFrame的形状"
   ]
  },
  {
   "cell_type": "code",
   "execution_count": 2,
   "metadata": {
    "collapsed": false
   },
   "outputs": [
    {
     "name": "stdout",
     "output_type": "stream",
     "text": [
      "            soils.head()                           soils_mean.head()            \n",
      "------------------------------------    ----------------------------------------\n",
      "   Depth Contour  Group    pH      N                      Group      pH        N\n",
      "1   0-10     Top      1  5.40  0.188    Depth Contour                           \n",
      "2   0-10     Top      1  5.65  0.165    0-10  Depression    9.0  5.3525  0.17825\n",
      "3   0-10     Top      1  5.14  0.260          Slope         5.0  5.5075  0.21900\n",
      "4   0-10     Top      1  5.14  0.169          Top           1.0  5.3325  0.19550\n",
      "5  10-30     Top      2  5.14  0.164    10-30 Depression   10.0  4.8800  0.08025\n",
      "                                              Slope         6.0  5.2825  0.10100\n"
     ]
    }
   ],
   "source": [
    "#pd读取之后取部分列赋值soils\n",
    "soils = pd.read_csv(\"Soils.csv\", index_col=0)[[\"Depth\", \"Contour\", \"Group\", \"pH\", \"N\"]]\n",
    "soils_mean = soils.groupby([\"Depth\", \"Contour\"]).mean()\n",
    "%C 4 soils.head(); soils_mean.head()"
   ]
  },
  {
   "cell_type": "markdown",
   "metadata": {},
   "source": [
    "#### 添加删除列或行"
   ]
  },
  {
   "cell_type": "code",
   "execution_count": 3,
   "metadata": {
    "collapsed": true
   },
   "outputs": [
    {
     "data": {
      "text/html": [
       "<div>\n",
       "<style scoped>\n",
       "    .dataframe tbody tr th:only-of-type {\n",
       "        vertical-align: middle;\n",
       "    }\n",
       "\n",
       "    .dataframe tbody tr th {\n",
       "        vertical-align: top;\n",
       "    }\n",
       "\n",
       "    .dataframe thead th {\n",
       "        text-align: right;\n",
       "    }\n",
       "</style>\n",
       "<table border=\"1\" class=\"dataframe\">\n",
       "  <thead>\n",
       "    <tr style=\"text-align: right;\">\n",
       "      <th></th>\n",
       "      <th>Depth</th>\n",
       "      <th>Contour</th>\n",
       "      <th>Group</th>\n",
       "      <th>pH</th>\n",
       "      <th>N</th>\n",
       "      <th>N_percent</th>\n",
       "    </tr>\n",
       "  </thead>\n",
       "  <tbody>\n",
       "    <tr>\n",
       "      <th>1</th>\n",
       "      <td>0-10</td>\n",
       "      <td>Top</td>\n",
       "      <td>1</td>\n",
       "      <td>5.40</td>\n",
       "      <td>0.188</td>\n",
       "      <td>18.8</td>\n",
       "    </tr>\n",
       "    <tr>\n",
       "      <th>2</th>\n",
       "      <td>0-10</td>\n",
       "      <td>Top</td>\n",
       "      <td>1</td>\n",
       "      <td>5.65</td>\n",
       "      <td>0.165</td>\n",
       "      <td>16.5</td>\n",
       "    </tr>\n",
       "    <tr>\n",
       "      <th>3</th>\n",
       "      <td>0-10</td>\n",
       "      <td>Top</td>\n",
       "      <td>1</td>\n",
       "      <td>5.14</td>\n",
       "      <td>0.260</td>\n",
       "      <td>26.0</td>\n",
       "    </tr>\n",
       "    <tr>\n",
       "      <th>4</th>\n",
       "      <td>0-10</td>\n",
       "      <td>Top</td>\n",
       "      <td>1</td>\n",
       "      <td>5.14</td>\n",
       "      <td>0.169</td>\n",
       "      <td>16.9</td>\n",
       "    </tr>\n",
       "    <tr>\n",
       "      <th>5</th>\n",
       "      <td>10-30</td>\n",
       "      <td>Top</td>\n",
       "      <td>2</td>\n",
       "      <td>5.14</td>\n",
       "      <td>0.164</td>\n",
       "      <td>16.4</td>\n",
       "    </tr>\n",
       "  </tbody>\n",
       "</table>\n",
       "</div>"
      ],
      "text/plain": [
       "   Depth Contour  Group    pH      N  N_percent\n",
       "1   0-10     Top      1  5.40  0.188       18.8\n",
       "2   0-10     Top      1  5.65  0.165       16.5\n",
       "3   0-10     Top      1  5.14  0.260       26.0\n",
       "4   0-10     Top      1  5.14  0.169       16.9\n",
       "5  10-30     Top      2  5.14  0.164       16.4"
      ]
     },
     "execution_count": 3,
     "metadata": {},
     "output_type": "execute_result"
    }
   ],
   "source": [
    "#列操作评估\n",
    "soils[\"N_percent\"] = soils.eval(\"N * 100\")\n",
    "soils.head()"
   ]
  },
  {
   "cell_type": "code",
   "execution_count": 4,
   "metadata": {
    "collapsed": false
   },
   "outputs": [
    {
     "name": "stdout",
     "output_type": "stream",
     "text": [
      "                  soils.head()                                         soils2.head()                    \n",
      "-----------------------------------------------    -----------------------------------------------------\n",
      "   Depth Contour  Group    pH      N  N_percent       Depth Contour  Group    pH      N  N_percent   pH2\n",
      "1   0-10     Top      1  5.40  0.188       18.8    1   0-10     Top      1  5.40  0.188       18.8  6.40\n",
      "2   0-10     Top      1  5.65  0.165       16.5    2   0-10     Top      1  5.65  0.165       16.5  6.65\n",
      "3   0-10     Top      1  5.14  0.260       26.0    3   0-10     Top      1  5.14  0.260       26.0  6.14\n",
      "4   0-10     Top      1  5.14  0.169       16.9    4   0-10     Top      1  5.14  0.169       16.9  6.14\n",
      "5  10-30     Top      2  5.14  0.164       16.4    5  10-30     Top      2  5.14  0.164       16.4  6.14\n"
     ]
    }
   ],
   "source": [
    "#assign方法会返回新的df而不改变原df\n",
    "soils2=soils.assign(pH2 = soils.pH + 1)\n",
    "%C 4 soils.head();soils2.head()"
   ]
  },
  {
   "cell_type": "code",
   "execution_count": 5,
   "metadata": {},
   "outputs": [
    {
     "data": {
      "text/plain": [
       "19"
      ]
     },
     "execution_count": 5,
     "metadata": {},
     "output_type": "execute_result"
    }
   ],
   "source": [
    "np.random.randint(10, 20)"
   ]
  },
  {
   "cell_type": "code",
   "execution_count": 6,
   "metadata": {
    "collapsed": true
   },
   "outputs": [
    {
     "data": {
      "text/html": [
       "<div>\n",
       "<style scoped>\n",
       "    .dataframe tbody tr th:only-of-type {\n",
       "        vertical-align: middle;\n",
       "    }\n",
       "\n",
       "    .dataframe tbody tr th {\n",
       "        vertical-align: top;\n",
       "    }\n",
       "\n",
       "    .dataframe thead th {\n",
       "        text-align: right;\n",
       "    }\n",
       "</style>\n",
       "<table border=\"1\" class=\"dataframe\">\n",
       "  <thead>\n",
       "    <tr style=\"text-align: right;\">\n",
       "      <th></th>\n",
       "      <th>A</th>\n",
       "      <th>B</th>\n",
       "      <th>C</th>\n",
       "    </tr>\n",
       "  </thead>\n",
       "  <tbody>\n",
       "    <tr>\n",
       "      <th>0</th>\n",
       "      <td>78</td>\n",
       "      <td>61</td>\n",
       "      <td>16</td>\n",
       "    </tr>\n",
       "    <tr>\n",
       "      <th>1</th>\n",
       "      <td>73</td>\n",
       "      <td>8</td>\n",
       "      <td>62</td>\n",
       "    </tr>\n",
       "    <tr>\n",
       "      <th>2</th>\n",
       "      <td>27</td>\n",
       "      <td>30</td>\n",
       "      <td>80</td>\n",
       "    </tr>\n",
       "    <tr>\n",
       "      <th>3</th>\n",
       "      <td>7</td>\n",
       "      <td>76</td>\n",
       "      <td>15</td>\n",
       "    </tr>\n",
       "    <tr>\n",
       "      <th>4</th>\n",
       "      <td>53</td>\n",
       "      <td>80</td>\n",
       "      <td>27</td>\n",
       "    </tr>\n",
       "    <tr>\n",
       "      <th>5</th>\n",
       "      <td>44</td>\n",
       "      <td>77</td>\n",
       "      <td>75</td>\n",
       "    </tr>\n",
       "    <tr>\n",
       "      <th>6</th>\n",
       "      <td>65</td>\n",
       "      <td>47</td>\n",
       "      <td>30</td>\n",
       "    </tr>\n",
       "    <tr>\n",
       "      <th>7</th>\n",
       "      <td>84</td>\n",
       "      <td>86</td>\n",
       "      <td>18</td>\n",
       "    </tr>\n",
       "    <tr>\n",
       "      <th>8</th>\n",
       "      <td>9</td>\n",
       "      <td>41</td>\n",
       "      <td>62</td>\n",
       "    </tr>\n",
       "    <tr>\n",
       "      <th>9</th>\n",
       "      <td>1</td>\n",
       "      <td>82</td>\n",
       "      <td>16</td>\n",
       "    </tr>\n",
       "    <tr>\n",
       "      <th>10</th>\n",
       "      <td>78</td>\n",
       "      <td>5</td>\n",
       "      <td>58</td>\n",
       "    </tr>\n",
       "    <tr>\n",
       "      <th>11</th>\n",
       "      <td>0</td>\n",
       "      <td>80</td>\n",
       "      <td>4</td>\n",
       "    </tr>\n",
       "    <tr>\n",
       "      <th>12</th>\n",
       "      <td>36</td>\n",
       "      <td>51</td>\n",
       "      <td>27</td>\n",
       "    </tr>\n",
       "  </tbody>\n",
       "</table>\n",
       "</div>"
      ],
      "text/plain": [
       "     A   B   C\n",
       "0   78  61  16\n",
       "1   73   8  62\n",
       "2   27  30  80\n",
       "3    7  76  15\n",
       "4   53  80  27\n",
       "5   44  77  75\n",
       "6   65  47  30\n",
       "7   84  86  18\n",
       "8    9  41  62\n",
       "9    1  82  16\n",
       "10  78   5  58\n",
       "11   0  80   4\n",
       "12  36  51  27"
      ]
     },
     "execution_count": 6,
     "metadata": {},
     "output_type": "execute_result"
    }
   ],
   "source": [
    "def random_dataframe(n):\n",
    "    np.random.seed(5) #初始随机数，让结果稳定\n",
    "    columns = [\"A\", \"B\", \"C\"]\n",
    "    for i in range(n):\n",
    "        nrow = np.random.randint(10, 20)\n",
    "        yield pd.DataFrame(np.random.randint(0, 100, size=(nrow, 3)), columns=columns)\n",
    "        #yield将返回生成器，只有在调用其中的元素的时候才会运算，可用next进行调用\n",
    "df_list = list(random_dataframe(1000))\n",
    "df_list[0]"
   ]
  },
  {
   "cell_type": "code",
   "execution_count": 7,
   "metadata": {
    "collapsed": false
   },
   "outputs": [],
   "source": [
    "#append方法被弃用\n",
    "# %%time \n",
    "# df_res1 = pd.DataFrame([])\n",
    "# for df in df_list:\n",
    "#     df_res1 = df_res1.append(df)"
   ]
  },
  {
   "cell_type": "code",
   "execution_count": 8,
   "metadata": {
    "collapsed": false
   },
   "outputs": [
    {
     "name": "stdout",
     "output_type": "stream",
     "text": [
      "CPU times: total: 78.1 ms\n",
      "Wall time: 79.3 ms\n"
     ]
    },
    {
     "data": {
      "text/html": [
       "<div>\n",
       "<style scoped>\n",
       "    .dataframe tbody tr th:only-of-type {\n",
       "        vertical-align: middle;\n",
       "    }\n",
       "\n",
       "    .dataframe tbody tr th {\n",
       "        vertical-align: top;\n",
       "    }\n",
       "\n",
       "    .dataframe thead th {\n",
       "        text-align: right;\n",
       "    }\n",
       "</style>\n",
       "<table border=\"1\" class=\"dataframe\">\n",
       "  <thead>\n",
       "    <tr style=\"text-align: right;\">\n",
       "      <th></th>\n",
       "      <th>A</th>\n",
       "      <th>B</th>\n",
       "      <th>C</th>\n",
       "    </tr>\n",
       "  </thead>\n",
       "  <tbody>\n",
       "    <tr>\n",
       "      <th>0</th>\n",
       "      <td>78</td>\n",
       "      <td>61</td>\n",
       "      <td>16</td>\n",
       "    </tr>\n",
       "    <tr>\n",
       "      <th>1</th>\n",
       "      <td>73</td>\n",
       "      <td>8</td>\n",
       "      <td>62</td>\n",
       "    </tr>\n",
       "    <tr>\n",
       "      <th>2</th>\n",
       "      <td>27</td>\n",
       "      <td>30</td>\n",
       "      <td>80</td>\n",
       "    </tr>\n",
       "    <tr>\n",
       "      <th>3</th>\n",
       "      <td>7</td>\n",
       "      <td>76</td>\n",
       "      <td>15</td>\n",
       "    </tr>\n",
       "    <tr>\n",
       "      <th>4</th>\n",
       "      <td>53</td>\n",
       "      <td>80</td>\n",
       "      <td>27</td>\n",
       "    </tr>\n",
       "  </tbody>\n",
       "</table>\n",
       "</div>"
      ],
      "text/plain": [
       "    A   B   C\n",
       "0  78  61  16\n",
       "1  73   8  62\n",
       "2  27  30  80\n",
       "3   7  76  15\n",
       "4  53  80  27"
      ]
     },
     "execution_count": 8,
     "metadata": {},
     "output_type": "execute_result"
    }
   ],
   "source": [
    "%%time\n",
    "df_res2 = pd.concat(df_list, axis=0)\n",
    "df_res2.head()"
   ]
  },
  {
   "cell_type": "code",
   "execution_count": 11,
   "metadata": {
    "collapsed": false
   },
   "outputs": [
    {
     "data": {
      "text/plain": [
       "True"
      ]
     },
     "execution_count": 11,
     "metadata": {},
     "output_type": "execute_result"
    }
   ],
   "source": [
    "#key关键字将作为0级index传入\n",
    "df_res3 = pd.concat(df_list, axis=0, keys=list(range(len(df_list))))\n",
    "df_res3.loc[30].equals(df_list[30]) #合成df中0级index为30的数据块与原dflist中的第30个元素相比较\n"
   ]
  },
  {
   "cell_type": "code",
   "execution_count": 12,
   "metadata": {
    "collapsed": false
   },
   "outputs": [
    {
     "data": {
      "text/html": [
       "<div>\n",
       "<style scoped>\n",
       "    .dataframe tbody tr th:only-of-type {\n",
       "        vertical-align: middle;\n",
       "    }\n",
       "\n",
       "    .dataframe tbody tr th {\n",
       "        vertical-align: top;\n",
       "    }\n",
       "\n",
       "    .dataframe thead th {\n",
       "        text-align: right;\n",
       "    }\n",
       "</style>\n",
       "<table border=\"1\" class=\"dataframe\">\n",
       "  <thead>\n",
       "    <tr style=\"text-align: right;\">\n",
       "      <th></th>\n",
       "      <th>Depth</th>\n",
       "      <th>Contour</th>\n",
       "      <th>pH</th>\n",
       "      <th>N_percent</th>\n",
       "    </tr>\n",
       "  </thead>\n",
       "  <tbody>\n",
       "    <tr>\n",
       "      <th>1</th>\n",
       "      <td>0-10</td>\n",
       "      <td>Top</td>\n",
       "      <td>5.40</td>\n",
       "      <td>18.8</td>\n",
       "    </tr>\n",
       "    <tr>\n",
       "      <th>2</th>\n",
       "      <td>0-10</td>\n",
       "      <td>Top</td>\n",
       "      <td>5.65</td>\n",
       "      <td>16.5</td>\n",
       "    </tr>\n",
       "    <tr>\n",
       "      <th>3</th>\n",
       "      <td>0-10</td>\n",
       "      <td>Top</td>\n",
       "      <td>5.14</td>\n",
       "      <td>26.0</td>\n",
       "    </tr>\n",
       "    <tr>\n",
       "      <th>4</th>\n",
       "      <td>0-10</td>\n",
       "      <td>Top</td>\n",
       "      <td>5.14</td>\n",
       "      <td>16.9</td>\n",
       "    </tr>\n",
       "    <tr>\n",
       "      <th>5</th>\n",
       "      <td>10-30</td>\n",
       "      <td>Top</td>\n",
       "      <td>5.14</td>\n",
       "      <td>16.4</td>\n",
       "    </tr>\n",
       "  </tbody>\n",
       "</table>\n",
       "</div>"
      ],
      "text/plain": [
       "   Depth Contour    pH  N_percent\n",
       "1   0-10     Top  5.40       18.8\n",
       "2   0-10     Top  5.65       16.5\n",
       "3   0-10     Top  5.14       26.0\n",
       "4   0-10     Top  5.14       16.9\n",
       "5  10-30     Top  5.14       16.4"
      ]
     },
     "execution_count": 12,
     "metadata": {},
     "output_type": "execute_result"
    }
   ],
   "source": [
    "#删除指定行列\n",
    "soils.drop([\"N\", \"Group\"], axis=1).head()"
   ]
  },
  {
   "cell_type": "markdown",
   "metadata": {},
   "source": [
    "#### 行索引与列之间相互转换"
   ]
  },
  {
   "cell_type": "code",
   "execution_count": 17,
   "metadata": {
    "collapsed": false
   },
   "outputs": [
    {
     "data": {
      "text/html": [
       "<div>\n",
       "<style scoped>\n",
       "    .dataframe tbody tr th:only-of-type {\n",
       "        vertical-align: middle;\n",
       "    }\n",
       "\n",
       "    .dataframe tbody tr th {\n",
       "        vertical-align: top;\n",
       "    }\n",
       "\n",
       "    .dataframe thead th {\n",
       "        text-align: right;\n",
       "    }\n",
       "</style>\n",
       "<table border=\"1\" class=\"dataframe\">\n",
       "  <thead>\n",
       "    <tr style=\"text-align: right;\">\n",
       "      <th></th>\n",
       "      <th>Contour</th>\n",
       "      <th>Group</th>\n",
       "      <th>pH</th>\n",
       "      <th>N</th>\n",
       "    </tr>\n",
       "    <tr>\n",
       "      <th>Depth</th>\n",
       "      <th></th>\n",
       "      <th></th>\n",
       "      <th></th>\n",
       "      <th></th>\n",
       "    </tr>\n",
       "  </thead>\n",
       "  <tbody>\n",
       "    <tr>\n",
       "      <th>0-10</th>\n",
       "      <td>Depression</td>\n",
       "      <td>9.0</td>\n",
       "      <td>5.3525</td>\n",
       "      <td>0.17825</td>\n",
       "    </tr>\n",
       "    <tr>\n",
       "      <th>0-10</th>\n",
       "      <td>Slope</td>\n",
       "      <td>5.0</td>\n",
       "      <td>5.5075</td>\n",
       "      <td>0.21900</td>\n",
       "    </tr>\n",
       "    <tr>\n",
       "      <th>0-10</th>\n",
       "      <td>Top</td>\n",
       "      <td>1.0</td>\n",
       "      <td>5.3325</td>\n",
       "      <td>0.19550</td>\n",
       "    </tr>\n",
       "    <tr>\n",
       "      <th>10-30</th>\n",
       "      <td>Depression</td>\n",
       "      <td>10.0</td>\n",
       "      <td>4.8800</td>\n",
       "      <td>0.08025</td>\n",
       "    </tr>\n",
       "    <tr>\n",
       "      <th>10-30</th>\n",
       "      <td>Slope</td>\n",
       "      <td>6.0</td>\n",
       "      <td>5.2825</td>\n",
       "      <td>0.10100</td>\n",
       "    </tr>\n",
       "  </tbody>\n",
       "</table>\n",
       "</div>"
      ],
      "text/plain": [
       "          Contour  Group      pH        N\n",
       "Depth                                    \n",
       "0-10   Depression    9.0  5.3525  0.17825\n",
       "0-10        Slope    5.0  5.5075  0.21900\n",
       "0-10          Top    1.0  5.3325  0.19550\n",
       "10-30  Depression   10.0  4.8800  0.08025\n",
       "10-30       Slope    6.0  5.2825  0.10100"
      ]
     },
     "execution_count": 17,
     "metadata": {},
     "output_type": "execute_result"
    }
   ],
   "source": [
    "#将index转换为列\n",
    "soils_mean.reset_index(level=\"Contour\").head()"
   ]
  },
  {
   "cell_type": "code",
   "execution_count": 20,
   "metadata": {
    "collapsed": false
   },
   "outputs": [
    {
     "data": {
      "text/html": [
       "<div>\n",
       "<style scoped>\n",
       "    .dataframe tbody tr th:only-of-type {\n",
       "        vertical-align: middle;\n",
       "    }\n",
       "\n",
       "    .dataframe tbody tr th {\n",
       "        vertical-align: top;\n",
       "    }\n",
       "\n",
       "    .dataframe thead th {\n",
       "        text-align: right;\n",
       "    }\n",
       "</style>\n",
       "<table border=\"1\" class=\"dataframe\">\n",
       "  <thead>\n",
       "    <tr style=\"text-align: right;\">\n",
       "      <th></th>\n",
       "      <th></th>\n",
       "      <th></th>\n",
       "      <th>pH</th>\n",
       "      <th>N</th>\n",
       "    </tr>\n",
       "    <tr>\n",
       "      <th>Depth</th>\n",
       "      <th>Contour</th>\n",
       "      <th>Group</th>\n",
       "      <th></th>\n",
       "      <th></th>\n",
       "    </tr>\n",
       "  </thead>\n",
       "  <tbody>\n",
       "    <tr>\n",
       "      <th rowspan=\"3\" valign=\"top\">0-10</th>\n",
       "      <th>Depression</th>\n",
       "      <th>9.0</th>\n",
       "      <td>5.3525</td>\n",
       "      <td>0.17825</td>\n",
       "    </tr>\n",
       "    <tr>\n",
       "      <th>Slope</th>\n",
       "      <th>5.0</th>\n",
       "      <td>5.5075</td>\n",
       "      <td>0.21900</td>\n",
       "    </tr>\n",
       "    <tr>\n",
       "      <th>Top</th>\n",
       "      <th>1.0</th>\n",
       "      <td>5.3325</td>\n",
       "      <td>0.19550</td>\n",
       "    </tr>\n",
       "    <tr>\n",
       "      <th rowspan=\"2\" valign=\"top\">10-30</th>\n",
       "      <th>Depression</th>\n",
       "      <th>10.0</th>\n",
       "      <td>4.8800</td>\n",
       "      <td>0.08025</td>\n",
       "    </tr>\n",
       "    <tr>\n",
       "      <th>Slope</th>\n",
       "      <th>6.0</th>\n",
       "      <td>5.2825</td>\n",
       "      <td>0.10100</td>\n",
       "    </tr>\n",
       "  </tbody>\n",
       "</table>\n",
       "</div>"
      ],
      "text/plain": [
       "                            pH        N\n",
       "Depth Contour    Group                 \n",
       "0-10  Depression 9.0    5.3525  0.17825\n",
       "      Slope      5.0    5.5075  0.21900\n",
       "      Top        1.0    5.3325  0.19550\n",
       "10-30 Depression 10.0   4.8800  0.08025\n",
       "      Slope      6.0    5.2825  0.10100"
      ]
     },
     "execution_count": 20,
     "metadata": {},
     "output_type": "execute_result"
    }
   ],
   "source": [
    "#将列转为index,append为False时将删除原索引\n",
    "soils_mean.set_index(\"Group\", append=True).head()"
   ]
  },
  {
   "cell_type": "markdown",
   "metadata": {},
   "source": [
    "#### 行和列的索引相互转换"
   ]
  },
  {
   "cell_type": "code",
   "execution_count": 21,
   "metadata": {
    "collapsed": false
   },
   "outputs": [
    {
     "data": {
      "text/html": [
       "<div>\n",
       "<style scoped>\n",
       "    .dataframe tbody tr th:only-of-type {\n",
       "        vertical-align: middle;\n",
       "    }\n",
       "\n",
       "    .dataframe tbody tr th {\n",
       "        vertical-align: top;\n",
       "    }\n",
       "\n",
       "    .dataframe thead tr th {\n",
       "        text-align: left;\n",
       "    }\n",
       "\n",
       "    .dataframe thead tr:last-of-type th {\n",
       "        text-align: right;\n",
       "    }\n",
       "</style>\n",
       "<table border=\"1\" class=\"dataframe\">\n",
       "  <thead>\n",
       "    <tr>\n",
       "      <th></th>\n",
       "      <th colspan=\"3\" halign=\"left\">Group</th>\n",
       "      <th colspan=\"3\" halign=\"left\">pH</th>\n",
       "    </tr>\n",
       "    <tr>\n",
       "      <th>Contour</th>\n",
       "      <th>Depression</th>\n",
       "      <th>Slope</th>\n",
       "      <th>Top</th>\n",
       "      <th>Depression</th>\n",
       "      <th>Slope</th>\n",
       "      <th>Top</th>\n",
       "    </tr>\n",
       "    <tr>\n",
       "      <th>Depth</th>\n",
       "      <th></th>\n",
       "      <th></th>\n",
       "      <th></th>\n",
       "      <th></th>\n",
       "      <th></th>\n",
       "      <th></th>\n",
       "    </tr>\n",
       "  </thead>\n",
       "  <tbody>\n",
       "    <tr>\n",
       "      <th>0-10</th>\n",
       "      <td>9.0</td>\n",
       "      <td>5.0</td>\n",
       "      <td>1.0</td>\n",
       "      <td>5.3525</td>\n",
       "      <td>5.5075</td>\n",
       "      <td>5.3325</td>\n",
       "    </tr>\n",
       "    <tr>\n",
       "      <th>10-30</th>\n",
       "      <td>10.0</td>\n",
       "      <td>6.0</td>\n",
       "      <td>2.0</td>\n",
       "      <td>4.8800</td>\n",
       "      <td>5.2825</td>\n",
       "      <td>4.8500</td>\n",
       "    </tr>\n",
       "    <tr>\n",
       "      <th>30-60</th>\n",
       "      <td>11.0</td>\n",
       "      <td>7.0</td>\n",
       "      <td>3.0</td>\n",
       "      <td>4.3625</td>\n",
       "      <td>4.2675</td>\n",
       "      <td>4.2050</td>\n",
       "    </tr>\n",
       "    <tr>\n",
       "      <th>60-90</th>\n",
       "      <td>12.0</td>\n",
       "      <td>8.0</td>\n",
       "      <td>4.0</td>\n",
       "      <td>4.1725</td>\n",
       "      <td>3.9275</td>\n",
       "      <td>3.8925</td>\n",
       "    </tr>\n",
       "  </tbody>\n",
       "</table>\n",
       "</div>"
      ],
      "text/plain": [
       "             Group                    pH                \n",
       "Contour Depression Slope  Top Depression   Slope     Top\n",
       "Depth                                                   \n",
       "0-10           9.0   5.0  1.0     5.3525  5.5075  5.3325\n",
       "10-30         10.0   6.0  2.0     4.8800  5.2825  4.8500\n",
       "30-60         11.0   7.0  3.0     4.3625  4.2675  4.2050\n",
       "60-90         12.0   8.0  4.0     4.1725  3.9275  3.8925"
      ]
     },
     "execution_count": 21,
     "metadata": {},
     "output_type": "execute_result"
    }
   ],
   "source": [
    "#行索引转换为列索引\n",
    "soils_mean.unstack(1)[[\"Group\", \"pH\"]].head()"
   ]
  },
  {
   "cell_type": "code",
   "execution_count": 22,
   "metadata": {
    "collapsed": false
   },
   "outputs": [
    {
     "data": {
      "text/plain": [
       "Depth  Contour          \n",
       "0-10   Depression  Group     9.00000\n",
       "                   pH        5.35250\n",
       "                   N         0.17825\n",
       "       Slope       Group     5.00000\n",
       "                   pH        5.50750\n",
       "                   N         0.21900\n",
       "       Top         Group     1.00000\n",
       "                   pH        5.33250\n",
       "                   N         0.19550\n",
       "10-30  Depression  Group    10.00000\n",
       "dtype: float64"
      ]
     },
     "execution_count": 22,
     "metadata": {},
     "output_type": "execute_result"
    }
   ],
   "source": [
    "#当所有索引被转到一个轴上后将得到一个Series\n",
    "soils_mean.stack().head(10)"
   ]
  },
  {
   "cell_type": "markdown",
   "metadata": {},
   "source": [
    "#### 交换索引的等级"
   ]
  },
  {
   "cell_type": "code",
   "execution_count": 26,
   "metadata": {
    "collapsed": false
   },
   "outputs": [
    {
     "data": {
      "text/html": [
       "<div>\n",
       "<style scoped>\n",
       "    .dataframe tbody tr th:only-of-type {\n",
       "        vertical-align: middle;\n",
       "    }\n",
       "\n",
       "    .dataframe tbody tr th {\n",
       "        vertical-align: top;\n",
       "    }\n",
       "\n",
       "    .dataframe thead th {\n",
       "        text-align: right;\n",
       "    }\n",
       "</style>\n",
       "<table border=\"1\" class=\"dataframe\">\n",
       "  <thead>\n",
       "    <tr style=\"text-align: right;\">\n",
       "      <th></th>\n",
       "      <th></th>\n",
       "      <th>Group</th>\n",
       "      <th>pH</th>\n",
       "      <th>N</th>\n",
       "    </tr>\n",
       "    <tr>\n",
       "      <th>Contour</th>\n",
       "      <th>Depth</th>\n",
       "      <th></th>\n",
       "      <th></th>\n",
       "      <th></th>\n",
       "    </tr>\n",
       "  </thead>\n",
       "  <tbody>\n",
       "    <tr>\n",
       "      <th rowspan=\"4\" valign=\"top\">Depression</th>\n",
       "      <th>0-10</th>\n",
       "      <td>9.0</td>\n",
       "      <td>5.3525</td>\n",
       "      <td>0.17825</td>\n",
       "    </tr>\n",
       "    <tr>\n",
       "      <th>10-30</th>\n",
       "      <td>10.0</td>\n",
       "      <td>4.8800</td>\n",
       "      <td>0.08025</td>\n",
       "    </tr>\n",
       "    <tr>\n",
       "      <th>30-60</th>\n",
       "      <td>11.0</td>\n",
       "      <td>4.3625</td>\n",
       "      <td>0.05050</td>\n",
       "    </tr>\n",
       "    <tr>\n",
       "      <th>60-90</th>\n",
       "      <td>12.0</td>\n",
       "      <td>4.1725</td>\n",
       "      <td>0.04025</td>\n",
       "    </tr>\n",
       "    <tr>\n",
       "      <th rowspan=\"4\" valign=\"top\">Slope</th>\n",
       "      <th>0-10</th>\n",
       "      <td>5.0</td>\n",
       "      <td>5.5075</td>\n",
       "      <td>0.21900</td>\n",
       "    </tr>\n",
       "    <tr>\n",
       "      <th>10-30</th>\n",
       "      <td>6.0</td>\n",
       "      <td>5.2825</td>\n",
       "      <td>0.10100</td>\n",
       "    </tr>\n",
       "    <tr>\n",
       "      <th>30-60</th>\n",
       "      <td>7.0</td>\n",
       "      <td>4.2675</td>\n",
       "      <td>0.06075</td>\n",
       "    </tr>\n",
       "    <tr>\n",
       "      <th>60-90</th>\n",
       "      <td>8.0</td>\n",
       "      <td>3.9275</td>\n",
       "      <td>0.04300</td>\n",
       "    </tr>\n",
       "    <tr>\n",
       "      <th rowspan=\"4\" valign=\"top\">Top</th>\n",
       "      <th>0-10</th>\n",
       "      <td>1.0</td>\n",
       "      <td>5.3325</td>\n",
       "      <td>0.19550</td>\n",
       "    </tr>\n",
       "    <tr>\n",
       "      <th>10-30</th>\n",
       "      <td>2.0</td>\n",
       "      <td>4.8500</td>\n",
       "      <td>0.11750</td>\n",
       "    </tr>\n",
       "    <tr>\n",
       "      <th>30-60</th>\n",
       "      <td>3.0</td>\n",
       "      <td>4.2050</td>\n",
       "      <td>0.07950</td>\n",
       "    </tr>\n",
       "    <tr>\n",
       "      <th>60-90</th>\n",
       "      <td>4.0</td>\n",
       "      <td>3.8925</td>\n",
       "      <td>0.05775</td>\n",
       "    </tr>\n",
       "  </tbody>\n",
       "</table>\n",
       "</div>"
      ],
      "text/plain": [
       "                  Group      pH        N\n",
       "Contour    Depth                        \n",
       "Depression 0-10     9.0  5.3525  0.17825\n",
       "           10-30   10.0  4.8800  0.08025\n",
       "           30-60   11.0  4.3625  0.05050\n",
       "           60-90   12.0  4.1725  0.04025\n",
       "Slope      0-10     5.0  5.5075  0.21900\n",
       "           10-30    6.0  5.2825  0.10100\n",
       "           30-60    7.0  4.2675  0.06075\n",
       "           60-90    8.0  3.9275  0.04300\n",
       "Top        0-10     1.0  5.3325  0.19550\n",
       "           10-30    2.0  4.8500  0.11750\n",
       "           30-60    3.0  4.2050  0.07950\n",
       "           60-90    4.0  3.8925  0.05775"
      ]
     },
     "execution_count": 26,
     "metadata": {},
     "output_type": "execute_result"
    }
   ],
   "source": [
    "#交换索引的级别并排序，排序可以让0级索引相同的值排到一块\n",
    "soils_mean.swaplevel(0, 1).sort_index()"
   ]
  },
  {
   "cell_type": "markdown",
   "metadata": {},
   "source": [
    "#### 透视表"
   ]
  },
  {
   "cell_type": "code",
   "execution_count": 29,
   "metadata": {
    "collapsed": false
   },
   "outputs": [
    {
     "name": "stdout",
     "output_type": "stream",
     "text": [
      "                  df                                  df_pivot_pH            \n",
      "--------------------------------------    -----------------------------------\n",
      "    Depth     Contour      pH        N    Contour  Depression   Slope     Top\n",
      "0    0-10  Depression  5.3525  0.17825    Depth                              \n",
      "1    0-10       Slope  5.5075  0.21900    0-10         5.3525  5.5075  5.3325\n",
      "2    0-10         Top  5.3325  0.19550    10-30        4.8800  5.2825  4.8500\n",
      "3   10-30  Depression  4.8800  0.08025    30-60        4.3625  4.2675  4.2050\n",
      "4   10-30       Slope  5.2825  0.10100    60-90        4.1725  3.9275  3.8925\n",
      "5   10-30         Top  4.8500  0.11750                                       \n",
      "6   30-60  Depression  4.3625  0.05050                                       \n",
      "7   30-60       Slope  4.2675  0.06075                                       \n",
      "8   30-60         Top  4.2050  0.07950                                       \n",
      "9   60-90  Depression  4.1725  0.04025                                       \n",
      "10  60-90       Slope  3.9275  0.04300                                       \n",
      "11  60-90         Top  3.8925  0.05775                                       \n"
     ]
    }
   ],
   "source": [
    "#生成透视表\n",
    "df = soils_mean.reset_index()[[\"Depth\", \"Contour\", \"pH\", \"N\"]]\n",
    "df_pivot_pH = df.pivot(\"Depth\", \"Contour\", \"pH\")\n",
    "%C 4 df; df_pivot_pH"
   ]
  },
  {
   "cell_type": "code",
   "execution_count": 46,
   "metadata": {
    "collapsed": false
   },
   "outputs": [
    {
     "data": {
      "text/html": [
       "<div>\n",
       "<style scoped>\n",
       "    .dataframe tbody tr th:only-of-type {\n",
       "        vertical-align: middle;\n",
       "    }\n",
       "\n",
       "    .dataframe tbody tr th {\n",
       "        vertical-align: top;\n",
       "    }\n",
       "\n",
       "    .dataframe thead tr th {\n",
       "        text-align: left;\n",
       "    }\n",
       "\n",
       "    .dataframe thead tr:last-of-type th {\n",
       "        text-align: right;\n",
       "    }\n",
       "</style>\n",
       "<table border=\"1\" class=\"dataframe\">\n",
       "  <thead>\n",
       "    <tr>\n",
       "      <th></th>\n",
       "      <th colspan=\"3\" halign=\"left\">pH</th>\n",
       "      <th colspan=\"3\" halign=\"left\">N</th>\n",
       "    </tr>\n",
       "    <tr>\n",
       "      <th>Contour</th>\n",
       "      <th>Depression</th>\n",
       "      <th>Slope</th>\n",
       "      <th>Top</th>\n",
       "      <th>Depression</th>\n",
       "      <th>Slope</th>\n",
       "      <th>Top</th>\n",
       "    </tr>\n",
       "    <tr>\n",
       "      <th>Depth</th>\n",
       "      <th></th>\n",
       "      <th></th>\n",
       "      <th></th>\n",
       "      <th></th>\n",
       "      <th></th>\n",
       "      <th></th>\n",
       "    </tr>\n",
       "  </thead>\n",
       "  <tbody>\n",
       "    <tr>\n",
       "      <th>0-10</th>\n",
       "      <td>5.3525</td>\n",
       "      <td>5.5075</td>\n",
       "      <td>5.3325</td>\n",
       "      <td>0.17825</td>\n",
       "      <td>0.21900</td>\n",
       "      <td>0.19550</td>\n",
       "    </tr>\n",
       "    <tr>\n",
       "      <th>10-30</th>\n",
       "      <td>4.8800</td>\n",
       "      <td>5.2825</td>\n",
       "      <td>4.8500</td>\n",
       "      <td>0.08025</td>\n",
       "      <td>0.10100</td>\n",
       "      <td>0.11750</td>\n",
       "    </tr>\n",
       "    <tr>\n",
       "      <th>30-60</th>\n",
       "      <td>4.3625</td>\n",
       "      <td>4.2675</td>\n",
       "      <td>4.2050</td>\n",
       "      <td>0.05050</td>\n",
       "      <td>0.06075</td>\n",
       "      <td>0.07950</td>\n",
       "    </tr>\n",
       "    <tr>\n",
       "      <th>60-90</th>\n",
       "      <td>4.1725</td>\n",
       "      <td>3.9275</td>\n",
       "      <td>3.8925</td>\n",
       "      <td>0.04025</td>\n",
       "      <td>0.04300</td>\n",
       "      <td>0.05775</td>\n",
       "    </tr>\n",
       "  </tbody>\n",
       "</table>\n",
       "</div>"
      ],
      "text/plain": [
       "                pH                          N                  \n",
       "Contour Depression   Slope     Top Depression    Slope      Top\n",
       "Depth                                                          \n",
       "0-10        5.3525  5.5075  5.3325    0.17825  0.21900  0.19550\n",
       "10-30       4.8800  5.2825  4.8500    0.08025  0.10100  0.11750\n",
       "30-60       4.3625  4.2675  4.2050    0.05050  0.06075  0.07950\n",
       "60-90       4.1725  3.9275  3.8925    0.04025  0.04300  0.05775"
      ]
     },
     "execution_count": 46,
     "metadata": {},
     "output_type": "execute_result"
    }
   ],
   "source": [
    "#透视表若不指定value参数，则会将所有的剩余列进行透视\n",
    "df.pivot(\"Depth\", \"Contour\")"
   ]
  },
  {
   "cell_type": "code",
   "execution_count": 47,
   "metadata": {
    "collapsed": false
   },
   "outputs": [
    {
     "name": "stdout",
     "output_type": "stream",
     "text": [
      "              df_before_melt                        df_after_melt        \n",
      "------------------------------------------  -----------------------------\n",
      "Contour  Depth  Depression   Slope     Top      Depth     Contour      pH\n",
      "0         0-10      5.3525  5.5075  5.3325  0    0-10  Depression  5.3525\n",
      "1        10-30      4.8800  5.2825  4.8500  1   10-30  Depression  4.8800\n",
      "2        30-60      4.3625  4.2675  4.2050  2   30-60  Depression  4.3625\n",
      "3        60-90      4.1725  3.9275  3.8925  3   60-90  Depression  4.1725\n",
      "                                            4    0-10       Slope  5.5075\n",
      "                                            5   10-30       Slope  5.2825\n",
      "                                            6   30-60       Slope  4.2675\n",
      "                                            7   60-90       Slope  3.9275\n",
      "                                            8    0-10         Top  5.3325\n",
      "                                            9   10-30         Top  4.8500\n",
      "                                            10  30-60         Top  4.2050\n",
      "                                            11  60-90         Top  3.8925\n"
     ]
    }
   ],
   "source": [
    "#逆透视\n",
    "df_before_melt = df_pivot_pH.reset_index()\n",
    "df_after_melt = pd.melt(df_before_melt, id_vars=\"Depth\", value_name=\"pH\")\n",
    "%C df_before_melt; df_after_melt"
   ]
  }
 ],
 "metadata": {
  "kernelspec": {
   "display_name": "Python 3.10.2 64-bit",
   "language": "python",
   "name": "python3"
  },
  "language_info": {
   "codemirror_mode": {
    "name": "ipython",
    "version": 3
   },
   "file_extension": ".py",
   "mimetype": "text/x-python",
   "name": "python",
   "nbconvert_exporter": "python",
   "pygments_lexer": "ipython3",
   "version": "3.10.2"
  },
  "vscode": {
   "interpreter": {
    "hash": "d99a3f7b344b3c3107482760db15f42178bfad658d282ab0a919b76809e13cb5"
   }
  }
 },
 "nbformat": 4,
 "nbformat_minor": 0
}
