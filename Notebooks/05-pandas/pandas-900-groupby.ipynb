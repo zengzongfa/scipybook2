{
 "cells": [
  {
   "cell_type": "code",
   "execution_count": 2,
   "metadata": {
    "collapsed": false
   },
   "outputs": [],
   "source": [
    "import pandas as pd\n",
    "import numpy as np\n",
    "# pd.set_option(\"display.show_dimensions\", False)\n",
    "# pd.set_option(\"display.float_format\", \"{:4.2g}\".format)"
   ]
  },
  {
   "cell_type": "markdown",
   "metadata": {},
   "source": [
    "## 分组运算"
   ]
  },
  {
   "cell_type": "code",
   "execution_count": 3,
   "metadata": {
    "collapsed": false
   },
   "outputs": [
    {
     "name": "stdout",
     "output_type": "stream",
     "text": [
      "dose_df.Tmt.unique()   dose_df.Age.unique()\n",
      "--------------------  ---------------------\n",
      "['C', 'D', 'A', 'B']  ['60s', '50s', '40s']\n"
     ]
    }
   ],
   "source": [
    "dose_df = pd.read_csv(\"dose.csv\")\n",
    "dose_df.head(3)\n",
    "%C dose_df.Tmt.unique();dose_df.Age.unique()"
   ]
  },
  {
   "cell_type": "markdown",
   "metadata": {},
   "source": [
    "### `groupby()`方法"
   ]
  },
  {
   "cell_type": "markdown",
   "metadata": {},
   "source": [
    "> **TIP**\n",
    "\n",
    "> `groupby()`并不立即执行分组操作，而只是返回保存源数据和分组数据的`GroupBy`对象。在需要获取每个分组的实际数据时，`GroupBy`对象才会执行分组操作。"
   ]
  },
  {
   "cell_type": "code",
   "execution_count": 4,
   "metadata": {
    "collapsed": false
   },
   "outputs": [
    {
     "name": "stdout",
     "output_type": "stream",
     "text": [
      "<class 'pandas.core.groupby.generic.DataFrameGroupBy'>\n"
     ]
    }
   ],
   "source": [
    "tmt_group = dose_df.groupby(\"Tmt\")\n",
    "print((type(tmt_group)))"
   ]
  },
  {
   "cell_type": "code",
   "execution_count": 5,
   "metadata": {
    "collapsed": true
   },
   "outputs": [],
   "source": [
    "tmt_age_group = dose_df.groupby([\"Tmt\", \"Age\"])"
   ]
  },
  {
   "cell_type": "code",
   "execution_count": 6,
   "metadata": {
    "collapsed": true
   },
   "outputs": [],
   "source": [
    "#按外部数据分组\n",
    "random_values = np.random.randint(0, 5, dose_df.shape[0])\n",
    "random_group = dose_df.groupby(random_values)"
   ]
  },
  {
   "cell_type": "code",
   "execution_count": 7,
   "metadata": {
    "collapsed": true
   },
   "outputs": [],
   "source": [
    "#按行索引的计算值进行分组\n",
    "alternating_group = dose_df.groupby(lambda n:n % 3)"
   ]
  },
  {
   "cell_type": "code",
   "execution_count": 8,
   "metadata": {
    "collapsed": true
   },
   "outputs": [],
   "source": [
    "#组合分组\n",
    "crazy_group = dose_df.groupby([\"Gender\", lambda n: n % 2, random_values])"
   ]
  },
  {
   "cell_type": "markdown",
   "metadata": {},
   "source": [
    "### `GroupBy`对象"
   ]
  },
  {
   "cell_type": "code",
   "execution_count": 9,
   "metadata": {
    "collapsed": false
   },
   "outputs": [
    {
     "name": "stdout",
     "output_type": "stream",
     "text": [
      "(10, 20)\n"
     ]
    }
   ],
   "source": [
    "print((len(tmt_age_group), len(crazy_group)))"
   ]
  },
  {
   "cell_type": "code",
   "execution_count": 10,
   "metadata": {
    "collapsed": false
   },
   "outputs": [
    {
     "name": "stdout",
     "output_type": "stream",
     "text": [
      "key =('A', '50s'),shape =(39, 6)\n",
      "key =('A', '60s'),shape =(26, 6)\n",
      "key =('B', '40s'),shape =(13, 6)\n",
      "key =('B', '50s'),shape =(13, 6)\n",
      "key =('B', '60s'),shape =(39, 6)\n",
      "key =('C', '40s'),shape =(13, 6)\n",
      "key =('C', '50s'),shape =(13, 6)\n",
      "key =('C', '60s'),shape =(39, 6)\n",
      "key =('D', '50s'),shape =(52, 6)\n",
      "key =('D', '60s'),shape =(13, 6)\n"
     ]
    }
   ],
   "source": [
    "#遍历分组对象\n",
    "for key, df in tmt_age_group:\n",
    "    print(f\"key ={key},shape ={df.shape}\")"
   ]
  },
  {
   "cell_type": "code",
   "execution_count": 11,
   "metadata": {
    "collapsed": true
   },
   "outputs": [
    {
     "data": {
      "text/html": [
       "<div>\n",
       "<style scoped>\n",
       "    .dataframe tbody tr th:only-of-type {\n",
       "        vertical-align: middle;\n",
       "    }\n",
       "\n",
       "    .dataframe tbody tr th {\n",
       "        vertical-align: top;\n",
       "    }\n",
       "\n",
       "    .dataframe thead th {\n",
       "        text-align: right;\n",
       "    }\n",
       "</style>\n",
       "<table border=\"1\" class=\"dataframe\">\n",
       "  <thead>\n",
       "    <tr style=\"text-align: right;\">\n",
       "      <th></th>\n",
       "      <th>Dose</th>\n",
       "      <th>Response1</th>\n",
       "      <th>Response2</th>\n",
       "      <th>Tmt</th>\n",
       "      <th>Age</th>\n",
       "      <th>Gender</th>\n",
       "    </tr>\n",
       "  </thead>\n",
       "  <tbody>\n",
       "    <tr>\n",
       "      <th>6</th>\n",
       "      <td>1.0</td>\n",
       "      <td>0.000</td>\n",
       "      <td>0.000</td>\n",
       "      <td>A</td>\n",
       "      <td>50s</td>\n",
       "      <td>F</td>\n",
       "    </tr>\n",
       "    <tr>\n",
       "      <th>10</th>\n",
       "      <td>15.0</td>\n",
       "      <td>5.225</td>\n",
       "      <td>5.163</td>\n",
       "      <td>A</td>\n",
       "      <td>60s</td>\n",
       "      <td>F</td>\n",
       "    </tr>\n",
       "    <tr>\n",
       "      <th>12</th>\n",
       "      <td>5.0</td>\n",
       "      <td>0.000</td>\n",
       "      <td>0.001</td>\n",
       "      <td>A</td>\n",
       "      <td>60s</td>\n",
       "      <td>F</td>\n",
       "    </tr>\n",
       "    <tr>\n",
       "      <th>17</th>\n",
       "      <td>5.0</td>\n",
       "      <td>0.000</td>\n",
       "      <td>0.003</td>\n",
       "      <td>A</td>\n",
       "      <td>50s</td>\n",
       "      <td>M</td>\n",
       "    </tr>\n",
       "    <tr>\n",
       "      <th>32</th>\n",
       "      <td>100.0</td>\n",
       "      <td>9.295</td>\n",
       "      <td>10.103</td>\n",
       "      <td>A</td>\n",
       "      <td>60s</td>\n",
       "      <td>F</td>\n",
       "    </tr>\n",
       "    <tr>\n",
       "      <th>...</th>\n",
       "      <td>...</td>\n",
       "      <td>...</td>\n",
       "      <td>...</td>\n",
       "      <td>...</td>\n",
       "      <td>...</td>\n",
       "      <td>...</td>\n",
       "    </tr>\n",
       "    <tr>\n",
       "      <th>247</th>\n",
       "      <td>60.0</td>\n",
       "      <td>10.527</td>\n",
       "      <td>10.745</td>\n",
       "      <td>A</td>\n",
       "      <td>50s</td>\n",
       "      <td>F</td>\n",
       "    </tr>\n",
       "    <tr>\n",
       "      <th>248</th>\n",
       "      <td>50.0</td>\n",
       "      <td>10.312</td>\n",
       "      <td>10.131</td>\n",
       "      <td>A</td>\n",
       "      <td>60s</td>\n",
       "      <td>F</td>\n",
       "    </tr>\n",
       "    <tr>\n",
       "      <th>255</th>\n",
       "      <td>80.0</td>\n",
       "      <td>9.239</td>\n",
       "      <td>10.103</td>\n",
       "      <td>A</td>\n",
       "      <td>60s</td>\n",
       "      <td>F</td>\n",
       "    </tr>\n",
       "    <tr>\n",
       "      <th>256</th>\n",
       "      <td>5.0</td>\n",
       "      <td>0.000</td>\n",
       "      <td>0.000</td>\n",
       "      <td>A</td>\n",
       "      <td>50s</td>\n",
       "      <td>M</td>\n",
       "    </tr>\n",
       "    <tr>\n",
       "      <th>257</th>\n",
       "      <td>25.0</td>\n",
       "      <td>9.976</td>\n",
       "      <td>10.000</td>\n",
       "      <td>A</td>\n",
       "      <td>60s</td>\n",
       "      <td>F</td>\n",
       "    </tr>\n",
       "  </tbody>\n",
       "</table>\n",
       "<p>65 rows × 6 columns</p>\n",
       "</div>"
      ],
      "text/plain": [
       "      Dose  Response1  Response2 Tmt  Age Gender\n",
       "6      1.0      0.000      0.000   A  50s      F\n",
       "10    15.0      5.225      5.163   A  60s      F\n",
       "12     5.0      0.000      0.001   A  60s      F\n",
       "17     5.0      0.000      0.003   A  50s      M\n",
       "32   100.0      9.295     10.103   A  60s      F\n",
       "..     ...        ...        ...  ..  ...    ...\n",
       "247   60.0     10.527     10.745   A  50s      F\n",
       "248   50.0     10.312     10.131   A  60s      F\n",
       "255   80.0      9.239     10.103   A  60s      F\n",
       "256    5.0      0.000      0.000   A  50s      M\n",
       "257   25.0      9.976     10.000   A  60s      F\n",
       "\n",
       "[65 rows x 6 columns]"
      ]
     },
     "execution_count": 11,
     "metadata": {},
     "output_type": "execute_result"
    }
   ],
   "source": [
    "#对tmt的分组数据命名\n",
    "(_, df_A), (_, df_B), (_, df_C), (_, df_D) = tmt_group\n",
    "df_A"
   ]
  },
  {
   "cell_type": "markdown",
   "metadata": {},
   "source": [
    "> **TIP**\n",
    "\n",
    "> 由于`GroupBy`对象有`keys`属性，因此无法通过`dict(tmt_group)`直接将其转换为字典，可以先将其转换为迭代器，再转换为字典`dict(iter(tmt_group))`。"
   ]
  },
  {
   "cell_type": "code",
   "execution_count": 12,
   "metadata": {
    "collapsed": false
   },
   "outputs": [
    {
     "name": "stdout",
     "output_type": "stream",
     "text": [
      "       tmt_group.get_group(\"A\").head(3)       \n",
      "----------------------------------------------\n",
      "    Dose  Response1  Response2 Tmt  Age Gender\n",
      "6    1.0      0.000      0.000   A  50s      F\n",
      "10  15.0      5.225      5.163   A  60s      F\n",
      "12   5.0      0.000      0.001   A  60s      F\n",
      "\n",
      "tmt_age_group.get_group((\"A\", \"50s\")).head(3) \n",
      "----------------------------------------------\n",
      "    Dose  Response1  Response2 Tmt  Age Gender\n",
      "6    1.0      0.000      0.000   A  50s      F\n",
      "17   5.0      0.000      0.003   A  50s      M\n",
      "34  40.0     10.825     10.464   A  50s      M\n"
     ]
    }
   ],
   "source": [
    "#通过key get group\n",
    "%C tmt_group.get_group(\"A\").head(3);; tmt_age_group.get_group((\"A\", \"50s\")).head(3)"
   ]
  },
  {
   "cell_type": "code",
   "execution_count": 13,
   "metadata": {
    "collapsed": false
   },
   "outputs": [
    {
     "name": "stdout",
     "output_type": "stream",
     "text": [
      "   tmt_group[\"Dose\"].get_group(\"A\")   \n",
      "--------------------------------------\n",
      "6        1.0                          \n",
      "10      15.0                          \n",
      "12       5.0                          \n",
      "17       5.0                          \n",
      "32     100.0                          \n",
      "       ...                            \n",
      "247     60.0                          \n",
      "248     50.0                          \n",
      "255     80.0                          \n",
      "256      5.0                          \n",
      "257     25.0                          \n",
      "Name: Dose, Length: 65, dtype: float64\n",
      "<pandas.core.groupby.generic.DataFrameGroupBy object at 0x000001C6F0BC7100>\n"
     ]
    }
   ],
   "source": [
    "#分组数据中筛选出某些列\n",
    "%C tmt_group[\"Dose\"].get_group(\"A\")\n",
    "print((tmt_group[[\"Response1\", \"Response2\"]]))"
   ]
  },
  {
   "cell_type": "code",
   "execution_count": 14,
   "metadata": {
    "collapsed": false
   },
   "outputs": [
    {
     "name": "stdout",
     "output_type": "stream",
     "text": [
      "                             tmt_group.Dose                             \n",
      "------------------------------------------------------------------------\n",
      "<pandas.core.groupby.generic.SeriesGroupBy object at 0x000001C6FF85E8C0>\n"
     ]
    }
   ],
   "source": [
    "#跟上一单元格的[]调用一样的效果\n",
    "%C tmt_group.Dose"
   ]
  },
  {
   "cell_type": "markdown",
   "metadata": {},
   "source": [
    "### 分组－运算－合并"
   ]
  },
  {
   "cell_type": "markdown",
   "metadata": {},
   "source": [
    "#### `agg()`－聚合\n",
    "优先将分组中每个df每列传入进行计算，然后将结果聚合。如果回调函数无法按列传入计算，则尝试将每个df传入进行计算，然后将结果聚合  \n",
    "agg聚合结果是单个数值"
   ]
  },
  {
   "cell_type": "code",
   "execution_count": 15,
   "metadata": {
    "collapsed": false
   },
   "outputs": [
    {
     "ename": "AttributeError",
     "evalue": "'Series' object has no attribute 'Response1'",
     "output_type": "error",
     "traceback": [
      "\u001b[1;31m---------------------------------------------------------------------------\u001b[0m",
      "\u001b[1;31mAttributeError\u001b[0m                            Traceback (most recent call last)",
      "\u001b[1;32mf:\\我的文档\\Github\\scipybook2\\Notebooks\\05-pandas\\pandas-900-groupby.ipynb Cell 21'\u001b[0m in \u001b[0;36m<cell line: 3>\u001b[1;34m()\u001b[0m\n\u001b[0;32m      <a href='vscode-notebook-cell:/f%3A/%E6%88%91%E7%9A%84%E6%96%87%E6%A1%A3/Github/scipybook2/Notebooks/05-pandas/pandas-900-groupby.ipynb#ch0000020?line=0'>1</a>\u001b[0m agg_res1 \u001b[39m=\u001b[39m tmt_group\u001b[39m.\u001b[39magg(np\u001b[39m.\u001b[39mmean) \u001b[39m#❶ 每组数据求均值\u001b[39;00m\n\u001b[0;32m      <a href='vscode-notebook-cell:/f%3A/%E6%88%91%E7%9A%84%E6%96%87%E6%A1%A3/Github/scipybook2/Notebooks/05-pandas/pandas-900-groupby.ipynb#ch0000020?line=1'>2</a>\u001b[0m \u001b[39m#idxmax()返回每列第一次出现最大值时的索引\u001b[39;00m\n\u001b[1;32m----> <a href='vscode-notebook-cell:/f%3A/%E6%88%91%E7%9A%84%E6%96%87%E6%A1%A3/Github/scipybook2/Notebooks/05-pandas/pandas-900-groupby.ipynb#ch0000020?line=2'>3</a>\u001b[0m agg_res2 \u001b[39m=\u001b[39m tmt_group\u001b[39m.\u001b[39;49magg(\u001b[39mlambda\u001b[39;49;00m df:df\u001b[39m.\u001b[39;49mloc[df\u001b[39m.\u001b[39;49mResponse1\u001b[39m.\u001b[39;49midxmax()]) \u001b[39m#❷ 每组中Response1最大的那一行\u001b[39;00m\n\u001b[0;32m      <a href='vscode-notebook-cell:/f%3A/%E6%88%91%E7%9A%84%E6%96%87%E6%A1%A3/Github/scipybook2/Notebooks/05-pandas/pandas-900-groupby.ipynb#ch0000020?line=3'>4</a>\u001b[0m get_ipython()\u001b[39m.\u001b[39mrun_line_magic(\u001b[39m'\u001b[39m\u001b[39mC\u001b[39m\u001b[39m'\u001b[39m, \u001b[39m'\u001b[39m\u001b[39m4 agg_res1; agg_res2\u001b[39m\u001b[39m'\u001b[39m)\n",
      "File \u001b[1;32md:\\Program Files\\Python310\\lib\\site-packages\\pandas\\core\\groupby\\generic.py:900\u001b[0m, in \u001b[0;36mDataFrameGroupBy.aggregate\u001b[1;34m(self, func, engine, engine_kwargs, *args, **kwargs)\u001b[0m\n\u001b[0;32m    898\u001b[0m gba \u001b[39m=\u001b[39m GroupByApply(\u001b[39mself\u001b[39m, [func], args\u001b[39m=\u001b[39m(), kwargs\u001b[39m=\u001b[39m{})\n\u001b[0;32m    899\u001b[0m \u001b[39mtry\u001b[39;00m:\n\u001b[1;32m--> 900\u001b[0m     result \u001b[39m=\u001b[39m gba\u001b[39m.\u001b[39;49magg()\n\u001b[0;32m    902\u001b[0m \u001b[39mexcept\u001b[39;00m \u001b[39mValueError\u001b[39;00m \u001b[39mas\u001b[39;00m err:\n\u001b[0;32m    903\u001b[0m     \u001b[39mif\u001b[39;00m \u001b[39m\"\u001b[39m\u001b[39mno results\u001b[39m\u001b[39m\"\u001b[39m \u001b[39mnot\u001b[39;00m \u001b[39min\u001b[39;00m \u001b[39mstr\u001b[39m(err):\n\u001b[0;32m    904\u001b[0m         \u001b[39m# raised directly by _aggregate_multiple_funcs\u001b[39;00m\n",
      "File \u001b[1;32md:\\Program Files\\Python310\\lib\\site-packages\\pandas\\core\\apply.py:171\u001b[0m, in \u001b[0;36mApply.agg\u001b[1;34m(self)\u001b[0m\n\u001b[0;32m    168\u001b[0m     \u001b[39mreturn\u001b[39;00m \u001b[39mself\u001b[39m\u001b[39m.\u001b[39magg_dict_like()\n\u001b[0;32m    169\u001b[0m \u001b[39melif\u001b[39;00m is_list_like(arg):\n\u001b[0;32m    170\u001b[0m     \u001b[39m# we require a list, but not a 'str'\u001b[39;00m\n\u001b[1;32m--> 171\u001b[0m     \u001b[39mreturn\u001b[39;00m \u001b[39mself\u001b[39;49m\u001b[39m.\u001b[39;49magg_list_like()\n\u001b[0;32m    173\u001b[0m \u001b[39mif\u001b[39;00m callable(arg):\n\u001b[0;32m    174\u001b[0m     f \u001b[39m=\u001b[39m com\u001b[39m.\u001b[39mget_cython_func(arg)\n",
      "File \u001b[1;32md:\\Program Files\\Python310\\lib\\site-packages\\pandas\\core\\apply.py:375\u001b[0m, in \u001b[0;36mApply.agg_list_like\u001b[1;34m(self)\u001b[0m\n\u001b[0;32m    368\u001b[0m \u001b[39mtry\u001b[39;00m:\n\u001b[0;32m    369\u001b[0m     \u001b[39m# Capture and suppress any warnings emitted by us in the call\u001b[39;00m\n\u001b[0;32m    370\u001b[0m     \u001b[39m# to agg below, but pass through any warnings that were\u001b[39;00m\n\u001b[0;32m    371\u001b[0m     \u001b[39m# generated otherwise.\u001b[39;00m\n\u001b[0;32m    372\u001b[0m     \u001b[39m# This is necessary because of https://bugs.python.org/issue29672\u001b[39;00m\n\u001b[0;32m    373\u001b[0m     \u001b[39m# See GH #43741 for more details\u001b[39;00m\n\u001b[0;32m    374\u001b[0m     \u001b[39mwith\u001b[39;00m warnings\u001b[39m.\u001b[39mcatch_warnings(record\u001b[39m=\u001b[39m\u001b[39mTrue\u001b[39;00m) \u001b[39mas\u001b[39;00m record:\n\u001b[1;32m--> 375\u001b[0m         new_res \u001b[39m=\u001b[39m colg\u001b[39m.\u001b[39;49maggregate(arg)\n\u001b[0;32m    376\u001b[0m     \u001b[39mif\u001b[39;00m \u001b[39mlen\u001b[39m(record) \u001b[39m>\u001b[39m \u001b[39m0\u001b[39m:\n\u001b[0;32m    377\u001b[0m         match \u001b[39m=\u001b[39m re\u001b[39m.\u001b[39mcompile(depr_nuisance_columns_msg\u001b[39m.\u001b[39mformat(\u001b[39m\"\u001b[39m\u001b[39m.*\u001b[39m\u001b[39m\"\u001b[39m))\n",
      "File \u001b[1;32md:\\Program Files\\Python310\\lib\\site-packages\\pandas\\core\\groupby\\generic.py:271\u001b[0m, in \u001b[0;36mSeriesGroupBy.aggregate\u001b[1;34m(self, func, engine, engine_kwargs, *args, **kwargs)\u001b[0m\n\u001b[0;32m    267\u001b[0m \u001b[39melif\u001b[39;00m \u001b[39misinstance\u001b[39m(func, abc\u001b[39m.\u001b[39mIterable):\n\u001b[0;32m    268\u001b[0m     \u001b[39m# Catch instances of lists / tuples\u001b[39;00m\n\u001b[0;32m    269\u001b[0m     \u001b[39m# but not the class list / tuple itself.\u001b[39;00m\n\u001b[0;32m    270\u001b[0m     func \u001b[39m=\u001b[39m maybe_mangle_lambdas(func)\n\u001b[1;32m--> 271\u001b[0m     ret \u001b[39m=\u001b[39m \u001b[39mself\u001b[39;49m\u001b[39m.\u001b[39;49m_aggregate_multiple_funcs(func)\n\u001b[0;32m    272\u001b[0m     \u001b[39mif\u001b[39;00m relabeling:\n\u001b[0;32m    273\u001b[0m         \u001b[39m# error: Incompatible types in assignment (expression has type\u001b[39;00m\n\u001b[0;32m    274\u001b[0m         \u001b[39m# \"Optional[List[str]]\", variable has type \"Index\")\u001b[39;00m\n\u001b[0;32m    275\u001b[0m         ret\u001b[39m.\u001b[39mcolumns \u001b[39m=\u001b[39m columns  \u001b[39m# type: ignore[assignment]\u001b[39;00m\n",
      "File \u001b[1;32md:\\Program Files\\Python310\\lib\\site-packages\\pandas\\core\\groupby\\generic.py:326\u001b[0m, in \u001b[0;36mSeriesGroupBy._aggregate_multiple_funcs\u001b[1;34m(self, arg)\u001b[0m\n\u001b[0;32m    323\u001b[0m \u001b[39mfor\u001b[39;00m idx, (name, func) \u001b[39min\u001b[39;00m \u001b[39menumerate\u001b[39m(arg):\n\u001b[0;32m    325\u001b[0m     key \u001b[39m=\u001b[39m base\u001b[39m.\u001b[39mOutputKey(label\u001b[39m=\u001b[39mname, position\u001b[39m=\u001b[39midx)\n\u001b[1;32m--> 326\u001b[0m     results[key] \u001b[39m=\u001b[39m \u001b[39mself\u001b[39;49m\u001b[39m.\u001b[39;49maggregate(func)\n\u001b[0;32m    328\u001b[0m \u001b[39mif\u001b[39;00m \u001b[39many\u001b[39m(\u001b[39misinstance\u001b[39m(x, DataFrame) \u001b[39mfor\u001b[39;00m x \u001b[39min\u001b[39;00m results\u001b[39m.\u001b[39mvalues()):\n\u001b[0;32m    329\u001b[0m     \u001b[39mfrom\u001b[39;00m \u001b[39mpandas\u001b[39;00m \u001b[39mimport\u001b[39;00m concat\n",
      "File \u001b[1;32md:\\Program Files\\Python310\\lib\\site-packages\\pandas\\core\\groupby\\generic.py:287\u001b[0m, in \u001b[0;36mSeriesGroupBy.aggregate\u001b[1;34m(self, func, engine, engine_kwargs, *args, **kwargs)\u001b[0m\n\u001b[0;32m    284\u001b[0m     \u001b[39mreturn\u001b[39;00m \u001b[39mself\u001b[39m\u001b[39m.\u001b[39m_python_agg_general(func, \u001b[39m*\u001b[39margs, \u001b[39m*\u001b[39m\u001b[39m*\u001b[39mkwargs)\n\u001b[0;32m    286\u001b[0m \u001b[39mtry\u001b[39;00m:\n\u001b[1;32m--> 287\u001b[0m     \u001b[39mreturn\u001b[39;00m \u001b[39mself\u001b[39m\u001b[39m.\u001b[39m_python_agg_general(func, \u001b[39m*\u001b[39margs, \u001b[39m*\u001b[39m\u001b[39m*\u001b[39mkwargs)\n\u001b[0;32m    288\u001b[0m \u001b[39mexcept\u001b[39;00m \u001b[39mKeyError\u001b[39;00m:\n\u001b[0;32m    289\u001b[0m     \u001b[39m# TODO: KeyError is raised in _python_agg_general,\u001b[39;00m\n\u001b[0;32m    290\u001b[0m     \u001b[39m#  see test_groupby.test_basic\u001b[39;00m\n\u001b[0;32m    291\u001b[0m     result \u001b[39m=\u001b[39m \u001b[39mself\u001b[39m\u001b[39m.\u001b[39m_aggregate_named(func, \u001b[39m*\u001b[39margs, \u001b[39m*\u001b[39m\u001b[39m*\u001b[39mkwargs)\n",
      "File \u001b[1;32md:\\Program Files\\Python310\\lib\\site-packages\\pandas\\core\\groupby\\groupby.py:1481\u001b[0m, in \u001b[0;36mGroupBy._python_agg_general\u001b[1;34m(self, func, *args, **kwargs)\u001b[0m\n\u001b[0;32m   1477\u001b[0m name \u001b[39m=\u001b[39m obj\u001b[39m.\u001b[39mname\n\u001b[0;32m   1479\u001b[0m \u001b[39mtry\u001b[39;00m:\n\u001b[0;32m   1480\u001b[0m     \u001b[39m# if this function is invalid for this dtype, we will ignore it.\u001b[39;00m\n\u001b[1;32m-> 1481\u001b[0m     result \u001b[39m=\u001b[39m \u001b[39mself\u001b[39;49m\u001b[39m.\u001b[39;49mgrouper\u001b[39m.\u001b[39;49magg_series(obj, f)\n\u001b[0;32m   1482\u001b[0m \u001b[39mexcept\u001b[39;00m \u001b[39mTypeError\u001b[39;00m:\n\u001b[0;32m   1483\u001b[0m     warn_dropping_nuisance_columns_deprecated(\u001b[39mtype\u001b[39m(\u001b[39mself\u001b[39m), \u001b[39m\"\u001b[39m\u001b[39magg\u001b[39m\u001b[39m\"\u001b[39m)\n",
      "File \u001b[1;32md:\\Program Files\\Python310\\lib\\site-packages\\pandas\\core\\groupby\\ops.py:981\u001b[0m, in \u001b[0;36mBaseGrouper.agg_series\u001b[1;34m(self, obj, func, preserve_dtype)\u001b[0m\n\u001b[0;32m    978\u001b[0m     preserve_dtype \u001b[39m=\u001b[39m \u001b[39mTrue\u001b[39;00m\n\u001b[0;32m    980\u001b[0m \u001b[39melse\u001b[39;00m:\n\u001b[1;32m--> 981\u001b[0m     result \u001b[39m=\u001b[39m \u001b[39mself\u001b[39;49m\u001b[39m.\u001b[39;49m_aggregate_series_pure_python(obj, func)\n\u001b[0;32m    983\u001b[0m npvalues \u001b[39m=\u001b[39m lib\u001b[39m.\u001b[39mmaybe_convert_objects(result, try_float\u001b[39m=\u001b[39m\u001b[39mFalse\u001b[39;00m)\n\u001b[0;32m    984\u001b[0m \u001b[39mif\u001b[39;00m preserve_dtype:\n",
      "File \u001b[1;32md:\\Program Files\\Python310\\lib\\site-packages\\pandas\\core\\groupby\\ops.py:1005\u001b[0m, in \u001b[0;36mBaseGrouper._aggregate_series_pure_python\u001b[1;34m(self, obj, func)\u001b[0m\n\u001b[0;32m   1003\u001b[0m \u001b[39mfor\u001b[39;00m i, group \u001b[39min\u001b[39;00m \u001b[39menumerate\u001b[39m(splitter):\n\u001b[0;32m   1004\u001b[0m     group \u001b[39m=\u001b[39m group\u001b[39m.\u001b[39m__finalize__(obj, method\u001b[39m=\u001b[39m\u001b[39m\"\u001b[39m\u001b[39mgroupby\u001b[39m\u001b[39m\"\u001b[39m)\n\u001b[1;32m-> 1005\u001b[0m     res \u001b[39m=\u001b[39m func(group)\n\u001b[0;32m   1006\u001b[0m     res \u001b[39m=\u001b[39m libreduction\u001b[39m.\u001b[39mextract_result(res)\n\u001b[0;32m   1008\u001b[0m     \u001b[39mif\u001b[39;00m \u001b[39mnot\u001b[39;00m initialized:\n\u001b[0;32m   1009\u001b[0m         \u001b[39m# We only do this validation on the first iteration\u001b[39;00m\n",
      "File \u001b[1;32md:\\Program Files\\Python310\\lib\\site-packages\\pandas\\core\\groupby\\groupby.py:1467\u001b[0m, in \u001b[0;36mGroupBy._python_agg_general.<locals>.<lambda>\u001b[1;34m(x)\u001b[0m\n\u001b[0;32m   1464\u001b[0m \u001b[39m@final\u001b[39m\n\u001b[0;32m   1465\u001b[0m \u001b[39mdef\u001b[39;00m \u001b[39m_python_agg_general\u001b[39m(\u001b[39mself\u001b[39m, func, \u001b[39m*\u001b[39margs, \u001b[39m*\u001b[39m\u001b[39m*\u001b[39mkwargs):\n\u001b[0;32m   1466\u001b[0m     func \u001b[39m=\u001b[39m com\u001b[39m.\u001b[39mis_builtin_func(func)\n\u001b[1;32m-> 1467\u001b[0m     f \u001b[39m=\u001b[39m \u001b[39mlambda\u001b[39;00m x: func(x, \u001b[39m*\u001b[39margs, \u001b[39m*\u001b[39m\u001b[39m*\u001b[39mkwargs)\n\u001b[0;32m   1469\u001b[0m     \u001b[39m# iterate through \"columns\" ex exclusions to populate output dict\u001b[39;00m\n\u001b[0;32m   1470\u001b[0m     output: \u001b[39mdict\u001b[39m[base\u001b[39m.\u001b[39mOutputKey, ArrayLike] \u001b[39m=\u001b[39m {}\n",
      "\u001b[1;32mf:\\我的文档\\Github\\scipybook2\\Notebooks\\05-pandas\\pandas-900-groupby.ipynb Cell 21'\u001b[0m in \u001b[0;36m<lambda>\u001b[1;34m(df)\u001b[0m\n\u001b[0;32m      <a href='vscode-notebook-cell:/f%3A/%E6%88%91%E7%9A%84%E6%96%87%E6%A1%A3/Github/scipybook2/Notebooks/05-pandas/pandas-900-groupby.ipynb#ch0000020?line=0'>1</a>\u001b[0m agg_res1 \u001b[39m=\u001b[39m tmt_group\u001b[39m.\u001b[39magg(np\u001b[39m.\u001b[39mmean) \u001b[39m#❶ 每组数据求均值\u001b[39;00m\n\u001b[0;32m      <a href='vscode-notebook-cell:/f%3A/%E6%88%91%E7%9A%84%E6%96%87%E6%A1%A3/Github/scipybook2/Notebooks/05-pandas/pandas-900-groupby.ipynb#ch0000020?line=1'>2</a>\u001b[0m \u001b[39m#idxmax()返回每列第一次出现最大值时的索引\u001b[39;00m\n\u001b[1;32m----> <a href='vscode-notebook-cell:/f%3A/%E6%88%91%E7%9A%84%E6%96%87%E6%A1%A3/Github/scipybook2/Notebooks/05-pandas/pandas-900-groupby.ipynb#ch0000020?line=2'>3</a>\u001b[0m agg_res2 \u001b[39m=\u001b[39m tmt_group\u001b[39m.\u001b[39magg(\u001b[39mlambda\u001b[39;00m df:df\u001b[39m.\u001b[39mloc[df\u001b[39m.\u001b[39;49mResponse1\u001b[39m.\u001b[39midxmax()]) \u001b[39m#❷ 每组中Response1最大的那一行\u001b[39;00m\n\u001b[0;32m      <a href='vscode-notebook-cell:/f%3A/%E6%88%91%E7%9A%84%E6%96%87%E6%A1%A3/Github/scipybook2/Notebooks/05-pandas/pandas-900-groupby.ipynb#ch0000020?line=3'>4</a>\u001b[0m get_ipython()\u001b[39m.\u001b[39mrun_line_magic(\u001b[39m'\u001b[39m\u001b[39mC\u001b[39m\u001b[39m'\u001b[39m, \u001b[39m'\u001b[39m\u001b[39m4 agg_res1; agg_res2\u001b[39m\u001b[39m'\u001b[39m)\n",
      "File \u001b[1;32md:\\Program Files\\Python310\\lib\\site-packages\\pandas\\core\\generic.py:5575\u001b[0m, in \u001b[0;36mNDFrame.__getattr__\u001b[1;34m(self, name)\u001b[0m\n\u001b[0;32m   5568\u001b[0m \u001b[39mif\u001b[39;00m (\n\u001b[0;32m   5569\u001b[0m     name \u001b[39mnot\u001b[39;00m \u001b[39min\u001b[39;00m \u001b[39mself\u001b[39m\u001b[39m.\u001b[39m_internal_names_set\n\u001b[0;32m   5570\u001b[0m     \u001b[39mand\u001b[39;00m name \u001b[39mnot\u001b[39;00m \u001b[39min\u001b[39;00m \u001b[39mself\u001b[39m\u001b[39m.\u001b[39m_metadata\n\u001b[0;32m   5571\u001b[0m     \u001b[39mand\u001b[39;00m name \u001b[39mnot\u001b[39;00m \u001b[39min\u001b[39;00m \u001b[39mself\u001b[39m\u001b[39m.\u001b[39m_accessors\n\u001b[0;32m   5572\u001b[0m     \u001b[39mand\u001b[39;00m \u001b[39mself\u001b[39m\u001b[39m.\u001b[39m_info_axis\u001b[39m.\u001b[39m_can_hold_identifiers_and_holds_name(name)\n\u001b[0;32m   5573\u001b[0m ):\n\u001b[0;32m   5574\u001b[0m     \u001b[39mreturn\u001b[39;00m \u001b[39mself\u001b[39m[name]\n\u001b[1;32m-> 5575\u001b[0m \u001b[39mreturn\u001b[39;00m \u001b[39mobject\u001b[39;49m\u001b[39m.\u001b[39;49m\u001b[39m__getattribute__\u001b[39;49m(\u001b[39mself\u001b[39;49m, name)\n",
      "\u001b[1;31mAttributeError\u001b[0m: 'Series' object has no attribute 'Response1'"
     ]
    }
   ],
   "source": [
    "agg_res1 = tmt_group.agg(np.mean) #❶ 每组数据求均值\n",
    "#idxmax()返回每列第一次出现最大值时的索引\n",
    "agg_res2 = tmt_group.agg(lambda df:df.loc[df.Response1.idxmax()]) #❷ 每组中Response1最大的那一行\n",
    "%C 4 agg_res1; agg_res2"
   ]
  },
  {
   "cell_type": "markdown",
   "metadata": {},
   "source": [
    "#### `transform()`－转换\n",
    "transform操作逻辑与agg类似，但transform传入列后，每个元素都会返回一个值。因此transform的结果为df且与原df的index一致"
   ]
  },
  {
   "cell_type": "code",
   "execution_count": null,
   "metadata": {},
   "outputs": [
    {
     "name": "stdout",
     "output_type": "stream",
     "text": [
      "       tmt_group.agg(np.mean)                           dose_df.head()               \n",
      "------------------------------------    ---------------------------------------------\n",
      "          Dose  Response1  Response2       Dose  Response1  Response2 Tmt  Age Gender\n",
      "Tmt                                     0  50.0      9.872     10.032   C  60s      F\n",
      "A    33.546154   6.728985   6.863185    1  15.0      0.002      0.004   D  60s      F\n",
      "B    33.546154   5.573354   5.456415    2  25.0      0.626      0.803   C  50s      M\n",
      "C    33.546154   4.040415   4.115323    3  25.0      1.372      1.557   C  60s      F\n",
      "D    33.546154   3.320646   3.188369    4  15.0      0.010      0.020   C  60s      F\n"
     ]
    }
   ],
   "source": [
    "%C 4 tmt_group.agg(np.mean); dose_df.head()"
   ]
  },
  {
   "cell_type": "code",
   "execution_count": null,
   "metadata": {
    "collapsed": false
   },
   "outputs": [
    {
     "name": "stdout",
     "output_type": "stream",
     "text": [
      "      transform_res1.head(5)      \n",
      "----------------------------------\n",
      "        Dose  Response1  Response2\n",
      "0  16.453846   5.831585   5.916677\n",
      "1 -18.546154  -3.318646  -3.184369\n",
      "2  -8.546154  -3.414415  -3.312323\n",
      "3  -8.546154  -2.668415  -2.558323\n",
      "4 -18.546154  -4.030415  -4.095323\n"
     ]
    },
    {
     "name": "stderr",
     "output_type": "stream",
     "text": [
      "C:\\Users\\zengz\\AppData\\Local\\Temp\\ipykernel_223356\\4095227283.py:1: FutureWarning: Dropping invalid columns in DataFrameGroupBy.transform is deprecated. In a future version, a TypeError will be raised. Before calling .transform, select only columns which should be valid for the function.\n",
      "  transform_res1 = tmt_group.transform(lambda s:s - s.mean()) #❶\n"
     ]
    }
   ],
   "source": [
    "transform_res1 = tmt_group.transform(lambda s:s - s.mean()) #❶\n",
    "# transform_res2 = tmt_group.transform(\n",
    "#     lambda df:df.assign(Response1=df.Response1 - df.Response1.mean())) #❷\n",
    "#第二种对df的操作不生效，原因未知\n",
    "%C transform_res1.head(5)"
   ]
  },
  {
   "cell_type": "markdown",
   "metadata": {},
   "source": [
    "#### `filter()`－过滤\n",
    "过滤后返回的是合格的组组成的df"
   ]
  },
  {
   "cell_type": "code",
   "execution_count": null,
   "metadata": {},
   "outputs": [
    {
     "data": {
      "text/html": [
       "<div>\n",
       "<style scoped>\n",
       "    .dataframe tbody tr th:only-of-type {\n",
       "        vertical-align: middle;\n",
       "    }\n",
       "\n",
       "    .dataframe tbody tr th {\n",
       "        vertical-align: top;\n",
       "    }\n",
       "\n",
       "    .dataframe thead th {\n",
       "        text-align: right;\n",
       "    }\n",
       "</style>\n",
       "<table border=\"1\" class=\"dataframe\">\n",
       "  <thead>\n",
       "    <tr style=\"text-align: right;\">\n",
       "      <th></th>\n",
       "      <th>Dose</th>\n",
       "      <th>Response1</th>\n",
       "      <th>Response2</th>\n",
       "      <th>Age</th>\n",
       "      <th>Gender</th>\n",
       "    </tr>\n",
       "    <tr>\n",
       "      <th>Tmt</th>\n",
       "      <th></th>\n",
       "      <th></th>\n",
       "      <th></th>\n",
       "      <th></th>\n",
       "      <th></th>\n",
       "    </tr>\n",
       "  </thead>\n",
       "  <tbody>\n",
       "    <tr>\n",
       "      <th>A</th>\n",
       "      <td>100.0</td>\n",
       "      <td>11.226</td>\n",
       "      <td>10.745</td>\n",
       "      <td>60s</td>\n",
       "      <td>M</td>\n",
       "    </tr>\n",
       "    <tr>\n",
       "      <th>B</th>\n",
       "      <td>100.0</td>\n",
       "      <td>10.824</td>\n",
       "      <td>10.340</td>\n",
       "      <td>60s</td>\n",
       "      <td>M</td>\n",
       "    </tr>\n",
       "    <tr>\n",
       "      <th>C</th>\n",
       "      <td>100.0</td>\n",
       "      <td>10.490</td>\n",
       "      <td>11.246</td>\n",
       "      <td>60s</td>\n",
       "      <td>M</td>\n",
       "    </tr>\n",
       "    <tr>\n",
       "      <th>D</th>\n",
       "      <td>100.0</td>\n",
       "      <td>10.911</td>\n",
       "      <td>9.863</td>\n",
       "      <td>60s</td>\n",
       "      <td>M</td>\n",
       "    </tr>\n",
       "  </tbody>\n",
       "</table>\n",
       "</div>"
      ],
      "text/plain": [
       "      Dose  Response1  Response2  Age Gender\n",
       "Tmt                                         \n",
       "A    100.0     11.226     10.745  60s      M\n",
       "B    100.0     10.824     10.340  60s      M\n",
       "C    100.0     10.490     11.246  60s      M\n",
       "D    100.0     10.911      9.863  60s      M"
      ]
     },
     "execution_count": 79,
     "metadata": {},
     "output_type": "execute_result"
    }
   ],
   "source": [
    "tmt_group.agg(np.max)"
   ]
  },
  {
   "cell_type": "code",
   "execution_count": null,
   "metadata": {
    "collapsed": false
   },
   "outputs": [
    {
     "data": {
      "text/html": [
       "<div>\n",
       "<style scoped>\n",
       "    .dataframe tbody tr th:only-of-type {\n",
       "        vertical-align: middle;\n",
       "    }\n",
       "\n",
       "    .dataframe tbody tr th {\n",
       "        vertical-align: top;\n",
       "    }\n",
       "\n",
       "    .dataframe thead th {\n",
       "        text-align: right;\n",
       "    }\n",
       "</style>\n",
       "<table border=\"1\" class=\"dataframe\">\n",
       "  <thead>\n",
       "    <tr style=\"text-align: right;\">\n",
       "      <th></th>\n",
       "      <th>Dose</th>\n",
       "      <th>Response1</th>\n",
       "      <th>Response2</th>\n",
       "      <th>Tmt</th>\n",
       "      <th>Age</th>\n",
       "      <th>Gender</th>\n",
       "    </tr>\n",
       "  </thead>\n",
       "  <tbody>\n",
       "    <tr>\n",
       "      <th>6</th>\n",
       "      <td>1.0</td>\n",
       "      <td>0.000</td>\n",
       "      <td>0.000</td>\n",
       "      <td>A</td>\n",
       "      <td>50s</td>\n",
       "      <td>F</td>\n",
       "    </tr>\n",
       "    <tr>\n",
       "      <th>10</th>\n",
       "      <td>15.0</td>\n",
       "      <td>5.225</td>\n",
       "      <td>5.163</td>\n",
       "      <td>A</td>\n",
       "      <td>60s</td>\n",
       "      <td>F</td>\n",
       "    </tr>\n",
       "    <tr>\n",
       "      <th>12</th>\n",
       "      <td>5.0</td>\n",
       "      <td>0.000</td>\n",
       "      <td>0.001</td>\n",
       "      <td>A</td>\n",
       "      <td>60s</td>\n",
       "      <td>F</td>\n",
       "    </tr>\n",
       "    <tr>\n",
       "      <th>17</th>\n",
       "      <td>5.0</td>\n",
       "      <td>0.000</td>\n",
       "      <td>0.003</td>\n",
       "      <td>A</td>\n",
       "      <td>50s</td>\n",
       "      <td>M</td>\n",
       "    </tr>\n",
       "    <tr>\n",
       "      <th>32</th>\n",
       "      <td>100.0</td>\n",
       "      <td>9.295</td>\n",
       "      <td>10.103</td>\n",
       "      <td>A</td>\n",
       "      <td>60s</td>\n",
       "      <td>F</td>\n",
       "    </tr>\n",
       "  </tbody>\n",
       "</table>\n",
       "</div>"
      ],
      "text/plain": [
       "     Dose  Response1  Response2 Tmt  Age Gender\n",
       "6     1.0      0.000      0.000   A  50s      F\n",
       "10   15.0      5.225      5.163   A  60s      F\n",
       "12    5.0      0.000      0.001   A  60s      F\n",
       "17    5.0      0.000      0.003   A  50s      M\n",
       "32  100.0      9.295     10.103   A  60s      F"
      ]
     },
     "execution_count": 80,
     "metadata": {},
     "output_type": "execute_result"
    }
   ],
   "source": [
    "#不合格的组的数据将被剔除\n",
    "tmt_group.filter(lambda df:df.Response1.max() > 11).head()\n"
   ]
  },
  {
   "cell_type": "markdown",
   "metadata": {},
   "source": [
    "#### `apply()`－运用"
   ]
  },
  {
   "cell_type": "markdown",
   "metadata": {},
   "source": [
    "> **WARNING**\n",
    "\n",
    "> 注意目前的版本采用`is`判断索引是否相同，很容易引起混淆，未来的版本可能会对这一点进行修改。"
   ]
  },
  {
   "cell_type": "code",
   "execution_count": 21,
   "metadata": {
    "collapsed": false
   },
   "outputs": [
    {
     "name": "stdout",
     "output_type": "stream",
     "text": [
      "       tmt_group.apply(pd.DataFrame.max)             tmt_group.apply(pd.DataFrame.mean) \n",
      "------------------------------------------------    ------------------------------------\n",
      "      Dose  Response1  Response2 Tmt  Age Gender              Dose  Response1  Response2\n",
      "Tmt                                                 Tmt                                 \n",
      "A    100.0     11.226     10.745   A  60s      M    A    33.546154   6.728985   6.863185\n",
      "B    100.0     10.824     10.340   B  60s      M    B    33.546154   5.573354   5.456415\n",
      "C    100.0     10.490     11.246   C  60s      M    C    33.546154   4.040415   4.115323\n",
      "D    100.0     10.911      9.863   D  60s      M    D    33.546154   3.320646   3.188369\n"
     ]
    },
    {
     "name": "stderr",
     "output_type": "stream",
     "text": [
      "<string>:1: FutureWarning: Dropping of nuisance columns in DataFrame reductions (with 'numeric_only=None') is deprecated; in a future version this will raise TypeError.  Select only valid columns before calling the reduction.\n"
     ]
    }
   ],
   "source": [
    "%C 4 tmt_group.apply(pd.DataFrame.max); tmt_group.apply(pd.DataFrame.mean)"
   ]
  },
  {
   "cell_type": "code",
   "execution_count": 22,
   "metadata": {},
   "outputs": [
    {
     "data": {
      "text/html": [
       "<div>\n",
       "<style scoped>\n",
       "    .dataframe tbody tr th:only-of-type {\n",
       "        vertical-align: middle;\n",
       "    }\n",
       "\n",
       "    .dataframe tbody tr th {\n",
       "        vertical-align: top;\n",
       "    }\n",
       "\n",
       "    .dataframe thead th {\n",
       "        text-align: right;\n",
       "    }\n",
       "</style>\n",
       "<table border=\"1\" class=\"dataframe\">\n",
       "  <thead>\n",
       "    <tr style=\"text-align: right;\">\n",
       "      <th></th>\n",
       "      <th>Dose</th>\n",
       "      <th>Response1</th>\n",
       "      <th>Response2</th>\n",
       "      <th>Tmt</th>\n",
       "      <th>Age</th>\n",
       "      <th>Gender</th>\n",
       "    </tr>\n",
       "  </thead>\n",
       "  <tbody>\n",
       "    <tr>\n",
       "      <th>6</th>\n",
       "      <td>1.0</td>\n",
       "      <td>0.000</td>\n",
       "      <td>0.000</td>\n",
       "      <td>A</td>\n",
       "      <td>50s</td>\n",
       "      <td>F</td>\n",
       "    </tr>\n",
       "    <tr>\n",
       "      <th>10</th>\n",
       "      <td>15.0</td>\n",
       "      <td>5.225</td>\n",
       "      <td>5.163</td>\n",
       "      <td>A</td>\n",
       "      <td>60s</td>\n",
       "      <td>F</td>\n",
       "    </tr>\n",
       "    <tr>\n",
       "      <th>12</th>\n",
       "      <td>5.0</td>\n",
       "      <td>0.000</td>\n",
       "      <td>0.001</td>\n",
       "      <td>A</td>\n",
       "      <td>60s</td>\n",
       "      <td>F</td>\n",
       "    </tr>\n",
       "    <tr>\n",
       "      <th>17</th>\n",
       "      <td>5.0</td>\n",
       "      <td>0.000</td>\n",
       "      <td>0.003</td>\n",
       "      <td>A</td>\n",
       "      <td>50s</td>\n",
       "      <td>M</td>\n",
       "    </tr>\n",
       "    <tr>\n",
       "      <th>32</th>\n",
       "      <td>100.0</td>\n",
       "      <td>9.295</td>\n",
       "      <td>10.103</td>\n",
       "      <td>A</td>\n",
       "      <td>60s</td>\n",
       "      <td>F</td>\n",
       "    </tr>\n",
       "    <tr>\n",
       "      <th>...</th>\n",
       "      <td>...</td>\n",
       "      <td>...</td>\n",
       "      <td>...</td>\n",
       "      <td>...</td>\n",
       "      <td>...</td>\n",
       "      <td>...</td>\n",
       "    </tr>\n",
       "    <tr>\n",
       "      <th>247</th>\n",
       "      <td>60.0</td>\n",
       "      <td>10.527</td>\n",
       "      <td>10.745</td>\n",
       "      <td>A</td>\n",
       "      <td>50s</td>\n",
       "      <td>F</td>\n",
       "    </tr>\n",
       "    <tr>\n",
       "      <th>248</th>\n",
       "      <td>50.0</td>\n",
       "      <td>10.312</td>\n",
       "      <td>10.131</td>\n",
       "      <td>A</td>\n",
       "      <td>60s</td>\n",
       "      <td>F</td>\n",
       "    </tr>\n",
       "    <tr>\n",
       "      <th>255</th>\n",
       "      <td>80.0</td>\n",
       "      <td>9.239</td>\n",
       "      <td>10.103</td>\n",
       "      <td>A</td>\n",
       "      <td>60s</td>\n",
       "      <td>F</td>\n",
       "    </tr>\n",
       "    <tr>\n",
       "      <th>256</th>\n",
       "      <td>5.0</td>\n",
       "      <td>0.000</td>\n",
       "      <td>0.000</td>\n",
       "      <td>A</td>\n",
       "      <td>50s</td>\n",
       "      <td>M</td>\n",
       "    </tr>\n",
       "    <tr>\n",
       "      <th>257</th>\n",
       "      <td>25.0</td>\n",
       "      <td>9.976</td>\n",
       "      <td>10.000</td>\n",
       "      <td>A</td>\n",
       "      <td>60s</td>\n",
       "      <td>F</td>\n",
       "    </tr>\n",
       "  </tbody>\n",
       "</table>\n",
       "<p>65 rows × 6 columns</p>\n",
       "</div>"
      ],
      "text/plain": [
       "      Dose  Response1  Response2 Tmt  Age Gender\n",
       "6      1.0      0.000      0.000   A  50s      F\n",
       "10    15.0      5.225      5.163   A  60s      F\n",
       "12     5.0      0.000      0.001   A  60s      F\n",
       "17     5.0      0.000      0.003   A  50s      M\n",
       "32   100.0      9.295     10.103   A  60s      F\n",
       "..     ...        ...        ...  ..  ...    ...\n",
       "247   60.0     10.527     10.745   A  50s      F\n",
       "248   50.0     10.312     10.131   A  60s      F\n",
       "255   80.0      9.239     10.103   A  60s      F\n",
       "256    5.0      0.000      0.000   A  50s      M\n",
       "257   25.0      9.976     10.000   A  60s      F\n",
       "\n",
       "[65 rows x 6 columns]"
      ]
     },
     "execution_count": 22,
     "metadata": {},
     "output_type": "execute_result"
    }
   ],
   "source": [
    "tmt_group.get_group(\"A\")"
   ]
  },
  {
   "cell_type": "code",
   "execution_count": 23,
   "metadata": {
    "collapsed": false
   },
   "outputs": [
    {
     "name": "stdout",
     "output_type": "stream",
     "text": [
      "          sample_res1                     sample_res2       \n",
      "-------------------------------    -------------------------\n",
      "Tmt                                Response1       0       1\n",
      "A    257     9.976                 Tmt                      \n",
      "     102     9.644                 A           0.000   9.689\n",
      "B    239    10.275                 B          10.073   9.858\n",
      "     31      0.398                 C           9.025   0.038\n",
      "C    38      9.345                 D           9.858  10.568\n",
      "     37      0.000                                          \n",
      "D    253     1.239                                          \n",
      "     30      0.000                                          \n",
      "Name: Response1, dtype: float64                             \n"
     ]
    }
   ],
   "source": [
    "sample_res1 = tmt_group.apply(lambda df:df.Response1.sample(2)) #❶\n",
    "sample_res2 = tmt_group.apply(\n",
    "    lambda df:df.Response1.sample(2).reset_index(drop=True)) #❷\n",
    "%C 4 sample_res1; sample_res2"
   ]
  },
  {
   "cell_type": "code",
   "execution_count": 34,
   "metadata": {
    "collapsed": false
   },
   "outputs": [
    {
     "name": "stdout",
     "output_type": "stream",
     "text": [
      "   apply_res1.head()          apply_res2.head()   \n",
      "-----------------------    -----------------------\n",
      "   Response1  Response1       Response1  Response1\n",
      "0   5.831585   5.831585    0   5.831585   5.831585\n",
      "1  -3.318646  -3.318646    1  -3.318646  -3.318646\n",
      "2  -3.414415  -3.414415    2  -3.414415  -3.414415\n",
      "3  -2.668415  -2.668415    3  -2.668415  -2.668415\n",
      "4  -4.030415  -4.030415    4  -4.030415  -4.030415\n"
     ]
    }
   ],
   "source": [
    "group = tmt_group[[\"Response1\", \"Response1\"]]\n",
    "apply_res1 = group.apply(lambda df:df - df.mean())\n",
    "apply_res2 = group.apply(lambda df:(df - df.mean())[:])\n",
    "\n",
    "%C 4 apply_res1.head(); apply_res2.head()"
   ]
  },
  {
   "cell_type": "code",
   "execution_count": 35,
   "metadata": {
    "collapsed": false
   },
   "outputs": [
    {
     "data": {
      "text/html": [
       "<div>\n",
       "<style scoped>\n",
       "    .dataframe tbody tr th:only-of-type {\n",
       "        vertical-align: middle;\n",
       "    }\n",
       "\n",
       "    .dataframe tbody tr th {\n",
       "        vertical-align: top;\n",
       "    }\n",
       "\n",
       "    .dataframe thead th {\n",
       "        text-align: right;\n",
       "    }\n",
       "</style>\n",
       "<table border=\"1\" class=\"dataframe\">\n",
       "  <thead>\n",
       "    <tr style=\"text-align: right;\">\n",
       "      <th></th>\n",
       "      <th></th>\n",
       "      <th>Dose</th>\n",
       "      <th>Response1</th>\n",
       "      <th>Response2</th>\n",
       "      <th>Tmt</th>\n",
       "      <th>Age</th>\n",
       "      <th>Gender</th>\n",
       "    </tr>\n",
       "    <tr>\n",
       "      <th>Tmt</th>\n",
       "      <th></th>\n",
       "      <th></th>\n",
       "      <th></th>\n",
       "      <th></th>\n",
       "      <th></th>\n",
       "      <th></th>\n",
       "      <th></th>\n",
       "    </tr>\n",
       "  </thead>\n",
       "  <tbody>\n",
       "    <tr>\n",
       "      <th rowspan=\"2\" valign=\"top\">A</th>\n",
       "      <th>34</th>\n",
       "      <td>40.0</td>\n",
       "      <td>10.825</td>\n",
       "      <td>10.464</td>\n",
       "      <td>A</td>\n",
       "      <td>50s</td>\n",
       "      <td>M</td>\n",
       "    </tr>\n",
       "    <tr>\n",
       "      <th>10</th>\n",
       "      <td>15.0</td>\n",
       "      <td>5.225</td>\n",
       "      <td>5.163</td>\n",
       "      <td>A</td>\n",
       "      <td>60s</td>\n",
       "      <td>F</td>\n",
       "    </tr>\n",
       "    <tr>\n",
       "      <th rowspan=\"2\" valign=\"top\">B</th>\n",
       "      <th>171</th>\n",
       "      <td>60.0</td>\n",
       "      <td>10.133</td>\n",
       "      <td>10.158</td>\n",
       "      <td>B</td>\n",
       "      <td>50s</td>\n",
       "      <td>M</td>\n",
       "    </tr>\n",
       "    <tr>\n",
       "      <th>101</th>\n",
       "      <td>100.0</td>\n",
       "      <td>8.866</td>\n",
       "      <td>10.234</td>\n",
       "      <td>B</td>\n",
       "      <td>60s</td>\n",
       "      <td>F</td>\n",
       "    </tr>\n",
       "  </tbody>\n",
       "</table>\n",
       "</div>"
      ],
      "text/plain": [
       "          Dose  Response1  Response2 Tmt  Age Gender\n",
       "Tmt                                                 \n",
       "A   34    40.0     10.825     10.464   A  50s      M\n",
       "    10    15.0      5.225      5.163   A  60s      F\n",
       "B   171   60.0     10.133     10.158   B  50s      M\n",
       "    101  100.0      8.866     10.234   B  60s      F"
      ]
     },
     "execution_count": 35,
     "metadata": {},
     "output_type": "execute_result"
    }
   ],
   "source": [
    "#使用None实现筛选效果\n",
    "tmt_group.apply(lambda df:None if df.Response1.mean() < 5 else df.sample(2))"
   ]
  },
  {
   "cell_type": "code",
   "execution_count": 40,
   "metadata": {
    "collapsed": false
   },
   "outputs": [
    {
     "name": "stdout",
     "output_type": "stream",
     "text": [
      "          tmt_group.mean()              tmt_group[[\"Dose\",\"Response1\",\"Response2\"]].quantile(q=0.75)\n",
      "------------------------------------    ------------------------------------------------------------\n",
      "          Dose  Response1  Response2         Dose  Response1  Response2                             \n",
      "Tmt                                     Tmt                                                         \n",
      "A    33.546154   6.728985   6.863185    A    50.0     10.283     10.217                             \n",
      "B    33.546154   5.573354   5.456415    B    50.0      9.814      9.997                             \n",
      "C    33.546154   4.040415   4.115323    C    50.0      9.627      9.561                             \n",
      "D    33.546154   3.320646   3.188369    D    50.0      8.899      8.351                             \n"
     ]
    }
   ],
   "source": [
    "%C 4 tmt_group.mean(); tmt_group[[\"Dose\",\"Response1\",\"Response2\"]].quantile(q=0.75)"
   ]
  }
 ],
 "metadata": {
  "kernelspec": {
   "display_name": "Python 3.10.2 64-bit",
   "language": "python",
   "name": "python3"
  },
  "language_info": {
   "codemirror_mode": {
    "name": "ipython",
    "version": 3
   },
   "file_extension": ".py",
   "mimetype": "text/x-python",
   "name": "python",
   "nbconvert_exporter": "python",
   "pygments_lexer": "ipython3",
   "version": "3.10.2"
  },
  "vscode": {
   "interpreter": {
    "hash": "d99a3f7b344b3c3107482760db15f42178bfad658d282ab0a919b76809e13cb5"
   }
  }
 },
 "nbformat": 4,
 "nbformat_minor": 0
}
